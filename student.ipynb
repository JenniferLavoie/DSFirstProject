{
 "cells": [
  {
   "cell_type": "markdown",
   "metadata": {},
   "source": [
    "## Final Project Submission\n",
    "\n",
    "Please fill out:\n",
    "* Student name:     Jennifer Lavoie\n",
    "* Student pace:     self paced \n",
    "* Scheduled project review date/time: \n",
    "* Instructor name:  Jeff Herman \n",
    "* Blog post URL:\n"
   ]
  },
  {
   "cell_type": "markdown",
   "metadata": {},
   "source": [
    "## Data Import Section\n",
    "\n",
    "This section of code begins reading in of all provided csv files to explore the available data in order to determine what questions might be able to be answered using this data. "
   ]
  },
  {
   "cell_type": "code",
   "execution_count": 3,
   "metadata": {},
   "outputs": [],
   "source": [
    "# Import necessary libraries\n",
    "import pandas as pd\n",
    "import numpy as np\n",
    "from scipy import stats\n",
    "import seaborn as sns\n",
    "import matplotlib.pyplot as plt\n",
    "%matplotlib inline"
   ]
  },
  {
   "cell_type": "markdown",
   "metadata": {},
   "source": [
    "## This section is for the import of the csv relating to IMDb data. "
   ]
  },
  {
   "cell_type": "code",
   "execution_count": 4,
   "metadata": {},
   "outputs": [
    {
     "data": {
      "text/html": [
       "<div>\n",
       "<style scoped>\n",
       "    .dataframe tbody tr th:only-of-type {\n",
       "        vertical-align: middle;\n",
       "    }\n",
       "\n",
       "    .dataframe tbody tr th {\n",
       "        vertical-align: top;\n",
       "    }\n",
       "\n",
       "    .dataframe thead th {\n",
       "        text-align: right;\n",
       "    }\n",
       "</style>\n",
       "<table border=\"1\" class=\"dataframe\">\n",
       "  <thead>\n",
       "    <tr style=\"text-align: right;\">\n",
       "      <th></th>\n",
       "      <th>nconst</th>\n",
       "      <th>primary_name</th>\n",
       "      <th>primary_profession</th>\n",
       "      <th>known_for_titles</th>\n",
       "    </tr>\n",
       "  </thead>\n",
       "  <tbody>\n",
       "    <tr>\n",
       "      <th>0</th>\n",
       "      <td>nm0061671</td>\n",
       "      <td>Mary Ellen Bauder</td>\n",
       "      <td>miscellaneous,production_manager,producer</td>\n",
       "      <td>tt0837562,tt2398241,tt0844471,tt0118553</td>\n",
       "    </tr>\n",
       "    <tr>\n",
       "      <th>1</th>\n",
       "      <td>nm0061865</td>\n",
       "      <td>Joseph Bauer</td>\n",
       "      <td>composer,music_department,sound_department</td>\n",
       "      <td>tt0896534,tt6791238,tt0287072,tt1682940</td>\n",
       "    </tr>\n",
       "    <tr>\n",
       "      <th>2</th>\n",
       "      <td>nm0062070</td>\n",
       "      <td>Bruce Baum</td>\n",
       "      <td>miscellaneous,actor,writer</td>\n",
       "      <td>tt1470654,tt0363631,tt0104030,tt0102898</td>\n",
       "    </tr>\n",
       "    <tr>\n",
       "      <th>3</th>\n",
       "      <td>nm0062195</td>\n",
       "      <td>Axel Baumann</td>\n",
       "      <td>camera_department,cinematographer,art_department</td>\n",
       "      <td>tt0114371,tt2004304,tt1618448,tt1224387</td>\n",
       "    </tr>\n",
       "    <tr>\n",
       "      <th>4</th>\n",
       "      <td>nm0062798</td>\n",
       "      <td>Pete Baxter</td>\n",
       "      <td>production_designer,art_department,set_decorator</td>\n",
       "      <td>tt0452644,tt0452692,tt3458030,tt2178256</td>\n",
       "    </tr>\n",
       "  </tbody>\n",
       "</table>\n",
       "</div>"
      ],
      "text/plain": [
       "      nconst       primary_name  \\\n",
       "0  nm0061671  Mary Ellen Bauder   \n",
       "1  nm0061865       Joseph Bauer   \n",
       "2  nm0062070         Bruce Baum   \n",
       "3  nm0062195       Axel Baumann   \n",
       "4  nm0062798        Pete Baxter   \n",
       "\n",
       "                                 primary_profession  \\\n",
       "0         miscellaneous,production_manager,producer   \n",
       "1        composer,music_department,sound_department   \n",
       "2                        miscellaneous,actor,writer   \n",
       "3  camera_department,cinematographer,art_department   \n",
       "4  production_designer,art_department,set_decorator   \n",
       "\n",
       "                          known_for_titles  \n",
       "0  tt0837562,tt2398241,tt0844471,tt0118553  \n",
       "1  tt0896534,tt6791238,tt0287072,tt1682940  \n",
       "2  tt1470654,tt0363631,tt0104030,tt0102898  \n",
       "3  tt0114371,tt2004304,tt1618448,tt1224387  \n",
       "4  tt0452644,tt0452692,tt3458030,tt2178256  "
      ]
     },
     "execution_count": 4,
     "metadata": {},
     "output_type": "execute_result"
    }
   ],
   "source": [
    "imdb_df1 = pd.read_csv('zippedData/imdb.name.basics.csv.gz')\n",
    "\n",
    "#dropping the birth year and death year columns as do not intend to use these in analysis\n",
    "imdb_df1.drop(['birth_year', 'death_year'], axis=1, inplace=True)\n",
    "\n",
    "imdb_df1.head()\n"
   ]
  },
  {
   "cell_type": "markdown",
   "metadata": {},
   "source": [
    "This csv contains \"nconst\" which appears to be an ID to reference the professionals associated with movie titles.  The titles are given also as an ID. "
   ]
  },
  {
   "cell_type": "code",
   "execution_count": 5,
   "metadata": {},
   "outputs": [
    {
     "name": "stdout",
     "output_type": "stream",
     "text": [
      "606648\n"
     ]
    }
   ],
   "source": [
    "print(len(imdb_df1)) #606648"
   ]
  },
  {
   "cell_type": "code",
   "execution_count": 6,
   "metadata": {},
   "outputs": [
    {
     "data": {
      "text/html": [
       "<div>\n",
       "<style scoped>\n",
       "    .dataframe tbody tr th:only-of-type {\n",
       "        vertical-align: middle;\n",
       "    }\n",
       "\n",
       "    .dataframe tbody tr th {\n",
       "        vertical-align: top;\n",
       "    }\n",
       "\n",
       "    .dataframe thead th {\n",
       "        text-align: right;\n",
       "    }\n",
       "</style>\n",
       "<table border=\"1\" class=\"dataframe\">\n",
       "  <thead>\n",
       "    <tr style=\"text-align: right;\">\n",
       "      <th></th>\n",
       "      <th>title_id</th>\n",
       "      <th>ordering</th>\n",
       "      <th>title</th>\n",
       "      <th>region</th>\n",
       "      <th>language</th>\n",
       "      <th>is_original_title</th>\n",
       "    </tr>\n",
       "  </thead>\n",
       "  <tbody>\n",
       "    <tr>\n",
       "      <th>0</th>\n",
       "      <td>tt0369610</td>\n",
       "      <td>10</td>\n",
       "      <td>Джурасик свят</td>\n",
       "      <td>BG</td>\n",
       "      <td>bg</td>\n",
       "      <td>0.0</td>\n",
       "    </tr>\n",
       "    <tr>\n",
       "      <th>1</th>\n",
       "      <td>tt0369610</td>\n",
       "      <td>11</td>\n",
       "      <td>Jurashikku warudo</td>\n",
       "      <td>JP</td>\n",
       "      <td>NaN</td>\n",
       "      <td>0.0</td>\n",
       "    </tr>\n",
       "    <tr>\n",
       "      <th>2</th>\n",
       "      <td>tt0369610</td>\n",
       "      <td>12</td>\n",
       "      <td>Jurassic World: O Mundo dos Dinossauros</td>\n",
       "      <td>BR</td>\n",
       "      <td>NaN</td>\n",
       "      <td>0.0</td>\n",
       "    </tr>\n",
       "    <tr>\n",
       "      <th>3</th>\n",
       "      <td>tt0369610</td>\n",
       "      <td>13</td>\n",
       "      <td>O Mundo dos Dinossauros</td>\n",
       "      <td>BR</td>\n",
       "      <td>NaN</td>\n",
       "      <td>0.0</td>\n",
       "    </tr>\n",
       "    <tr>\n",
       "      <th>4</th>\n",
       "      <td>tt0369610</td>\n",
       "      <td>14</td>\n",
       "      <td>Jurassic World</td>\n",
       "      <td>FR</td>\n",
       "      <td>NaN</td>\n",
       "      <td>0.0</td>\n",
       "    </tr>\n",
       "  </tbody>\n",
       "</table>\n",
       "</div>"
      ],
      "text/plain": [
       "    title_id  ordering                                    title region  \\\n",
       "0  tt0369610        10                            Джурасик свят     BG   \n",
       "1  tt0369610        11                        Jurashikku warudo     JP   \n",
       "2  tt0369610        12  Jurassic World: O Mundo dos Dinossauros     BR   \n",
       "3  tt0369610        13                  O Mundo dos Dinossauros     BR   \n",
       "4  tt0369610        14                           Jurassic World     FR   \n",
       "\n",
       "  language  is_original_title  \n",
       "0       bg                0.0  \n",
       "1      NaN                0.0  \n",
       "2      NaN                0.0  \n",
       "3      NaN                0.0  \n",
       "4      NaN                0.0  "
      ]
     },
     "execution_count": 6,
     "metadata": {},
     "output_type": "execute_result"
    }
   ],
   "source": [
    "imdb_df2 = pd.read_csv('zippedData/imdb.title.akas.csv.gz')\n",
    "\n",
    "# dropping these two columns which I do not intend to use in analysis for simplicity and readability \n",
    "imdb_df2.drop(['attributes', 'types'], axis=1, inplace=True)\n",
    "\n",
    "imdb_df2.head()\n"
   ]
  },
  {
   "cell_type": "markdown",
   "metadata": {},
   "source": [
    "This csv links movie titles with their ID, indicates the region of release, language of the movie and whether or not the title is the original title.  It appears that the language column contains a lot of NaNs and might not be very useful in analysis. I won't be using this df any further for the analysis based on the questions I am asking.  "
   ]
  },
  {
   "cell_type": "code",
   "execution_count": 7,
   "metadata": {},
   "outputs": [
    {
     "data": {
      "text/html": [
       "<div>\n",
       "<style scoped>\n",
       "    .dataframe tbody tr th:only-of-type {\n",
       "        vertical-align: middle;\n",
       "    }\n",
       "\n",
       "    .dataframe tbody tr th {\n",
       "        vertical-align: top;\n",
       "    }\n",
       "\n",
       "    .dataframe thead th {\n",
       "        text-align: right;\n",
       "    }\n",
       "</style>\n",
       "<table border=\"1\" class=\"dataframe\">\n",
       "  <thead>\n",
       "    <tr style=\"text-align: right;\">\n",
       "      <th></th>\n",
       "      <th>tconst</th>\n",
       "      <th>primary_title</th>\n",
       "      <th>original_title</th>\n",
       "      <th>start_year</th>\n",
       "      <th>runtime_minutes</th>\n",
       "      <th>genres</th>\n",
       "    </tr>\n",
       "  </thead>\n",
       "  <tbody>\n",
       "    <tr>\n",
       "      <th>0</th>\n",
       "      <td>tt0063540</td>\n",
       "      <td>Sunghursh</td>\n",
       "      <td>Sunghursh</td>\n",
       "      <td>2013</td>\n",
       "      <td>175.0</td>\n",
       "      <td>Action,Crime,Drama</td>\n",
       "    </tr>\n",
       "    <tr>\n",
       "      <th>1</th>\n",
       "      <td>tt0066787</td>\n",
       "      <td>One Day Before the Rainy Season</td>\n",
       "      <td>Ashad Ka Ek Din</td>\n",
       "      <td>2019</td>\n",
       "      <td>114.0</td>\n",
       "      <td>Biography,Drama</td>\n",
       "    </tr>\n",
       "    <tr>\n",
       "      <th>2</th>\n",
       "      <td>tt0069049</td>\n",
       "      <td>The Other Side of the Wind</td>\n",
       "      <td>The Other Side of the Wind</td>\n",
       "      <td>2018</td>\n",
       "      <td>122.0</td>\n",
       "      <td>Drama</td>\n",
       "    </tr>\n",
       "    <tr>\n",
       "      <th>3</th>\n",
       "      <td>tt0069204</td>\n",
       "      <td>Sabse Bada Sukh</td>\n",
       "      <td>Sabse Bada Sukh</td>\n",
       "      <td>2018</td>\n",
       "      <td>NaN</td>\n",
       "      <td>Comedy,Drama</td>\n",
       "    </tr>\n",
       "    <tr>\n",
       "      <th>4</th>\n",
       "      <td>tt0100275</td>\n",
       "      <td>The Wandering Soap Opera</td>\n",
       "      <td>La Telenovela Errante</td>\n",
       "      <td>2017</td>\n",
       "      <td>80.0</td>\n",
       "      <td>Comedy,Drama,Fantasy</td>\n",
       "    </tr>\n",
       "  </tbody>\n",
       "</table>\n",
       "</div>"
      ],
      "text/plain": [
       "      tconst                    primary_title              original_title  \\\n",
       "0  tt0063540                        Sunghursh                   Sunghursh   \n",
       "1  tt0066787  One Day Before the Rainy Season             Ashad Ka Ek Din   \n",
       "2  tt0069049       The Other Side of the Wind  The Other Side of the Wind   \n",
       "3  tt0069204                  Sabse Bada Sukh             Sabse Bada Sukh   \n",
       "4  tt0100275         The Wandering Soap Opera       La Telenovela Errante   \n",
       "\n",
       "   start_year  runtime_minutes                genres  \n",
       "0        2013            175.0    Action,Crime,Drama  \n",
       "1        2019            114.0       Biography,Drama  \n",
       "2        2018            122.0                 Drama  \n",
       "3        2018              NaN          Comedy,Drama  \n",
       "4        2017             80.0  Comedy,Drama,Fantasy  "
      ]
     },
     "execution_count": 7,
     "metadata": {},
     "output_type": "execute_result"
    }
   ],
   "source": [
    "imdb_df3 = pd.read_csv('zippedData/imdb.title.basics.csv.gz')\n",
    "\n",
    "imdb_df3.head()\n"
   ]
  },
  {
   "cell_type": "markdown",
   "metadata": {},
   "source": [
    "This csv links the title of the movie to it's ID as well, giving it the name \"tconst.\"  It also links it to a genre and gives information about the title the movie is known by v. original title. It also links the title to its release year and length of the movie. "
   ]
  },
  {
   "cell_type": "code",
   "execution_count": 8,
   "metadata": {},
   "outputs": [
    {
     "name": "stdout",
     "output_type": "stream",
     "text": [
      "146144\n"
     ]
    }
   ],
   "source": [
    "print(len(imdb_df3)) #146144"
   ]
  },
  {
   "cell_type": "code",
   "execution_count": 9,
   "metadata": {},
   "outputs": [
    {
     "data": {
      "text/html": [
       "<div>\n",
       "<style scoped>\n",
       "    .dataframe tbody tr th:only-of-type {\n",
       "        vertical-align: middle;\n",
       "    }\n",
       "\n",
       "    .dataframe tbody tr th {\n",
       "        vertical-align: top;\n",
       "    }\n",
       "\n",
       "    .dataframe thead th {\n",
       "        text-align: right;\n",
       "    }\n",
       "</style>\n",
       "<table border=\"1\" class=\"dataframe\">\n",
       "  <thead>\n",
       "    <tr style=\"text-align: right;\">\n",
       "      <th></th>\n",
       "      <th>tconst</th>\n",
       "      <th>directors</th>\n",
       "      <th>writers</th>\n",
       "    </tr>\n",
       "  </thead>\n",
       "  <tbody>\n",
       "    <tr>\n",
       "      <th>0</th>\n",
       "      <td>tt0285252</td>\n",
       "      <td>nm0899854</td>\n",
       "      <td>nm0899854</td>\n",
       "    </tr>\n",
       "    <tr>\n",
       "      <th>1</th>\n",
       "      <td>tt0438973</td>\n",
       "      <td>NaN</td>\n",
       "      <td>nm0175726,nm1802864</td>\n",
       "    </tr>\n",
       "    <tr>\n",
       "      <th>2</th>\n",
       "      <td>tt0462036</td>\n",
       "      <td>nm1940585</td>\n",
       "      <td>nm1940585</td>\n",
       "    </tr>\n",
       "    <tr>\n",
       "      <th>3</th>\n",
       "      <td>tt0835418</td>\n",
       "      <td>nm0151540</td>\n",
       "      <td>nm0310087,nm0841532</td>\n",
       "    </tr>\n",
       "    <tr>\n",
       "      <th>4</th>\n",
       "      <td>tt0878654</td>\n",
       "      <td>nm0089502,nm2291498,nm2292011</td>\n",
       "      <td>nm0284943</td>\n",
       "    </tr>\n",
       "  </tbody>\n",
       "</table>\n",
       "</div>"
      ],
      "text/plain": [
       "      tconst                      directors              writers\n",
       "0  tt0285252                      nm0899854            nm0899854\n",
       "1  tt0438973                            NaN  nm0175726,nm1802864\n",
       "2  tt0462036                      nm1940585            nm1940585\n",
       "3  tt0835418                      nm0151540  nm0310087,nm0841532\n",
       "4  tt0878654  nm0089502,nm2291498,nm2292011            nm0284943"
      ]
     },
     "execution_count": 9,
     "metadata": {},
     "output_type": "execute_result"
    }
   ],
   "source": [
    "imdb_df4 = pd.read_csv('zippedData/imdb.title.crew.csv.gz')\n",
    "\n",
    "imdb_df4.head()\n"
   ]
  },
  {
   "cell_type": "markdown",
   "metadata": {},
   "source": [
    "This csv links the movie's ID, 'tconst' to the ID given in the first csv I imported from this set, identifying the writers and directors for the movie titles.  "
   ]
  },
  {
   "cell_type": "code",
   "execution_count": 10,
   "metadata": {},
   "outputs": [
    {
     "name": "stdout",
     "output_type": "stream",
     "text": [
      "146144\n"
     ]
    }
   ],
   "source": [
    "print(len(imdb_df4)) #146144"
   ]
  },
  {
   "cell_type": "code",
   "execution_count": 11,
   "metadata": {},
   "outputs": [
    {
     "data": {
      "text/html": [
       "<div>\n",
       "<style scoped>\n",
       "    .dataframe tbody tr th:only-of-type {\n",
       "        vertical-align: middle;\n",
       "    }\n",
       "\n",
       "    .dataframe tbody tr th {\n",
       "        vertical-align: top;\n",
       "    }\n",
       "\n",
       "    .dataframe thead th {\n",
       "        text-align: right;\n",
       "    }\n",
       "</style>\n",
       "<table border=\"1\" class=\"dataframe\">\n",
       "  <thead>\n",
       "    <tr style=\"text-align: right;\">\n",
       "      <th></th>\n",
       "      <th>tconst</th>\n",
       "      <th>ordering</th>\n",
       "      <th>nconst</th>\n",
       "      <th>category</th>\n",
       "      <th>job</th>\n",
       "    </tr>\n",
       "  </thead>\n",
       "  <tbody>\n",
       "    <tr>\n",
       "      <th>0</th>\n",
       "      <td>tt0111414</td>\n",
       "      <td>1</td>\n",
       "      <td>nm0246005</td>\n",
       "      <td>actor</td>\n",
       "      <td>NaN</td>\n",
       "    </tr>\n",
       "    <tr>\n",
       "      <th>1</th>\n",
       "      <td>tt0111414</td>\n",
       "      <td>2</td>\n",
       "      <td>nm0398271</td>\n",
       "      <td>director</td>\n",
       "      <td>NaN</td>\n",
       "    </tr>\n",
       "    <tr>\n",
       "      <th>2</th>\n",
       "      <td>tt0111414</td>\n",
       "      <td>3</td>\n",
       "      <td>nm3739909</td>\n",
       "      <td>producer</td>\n",
       "      <td>producer</td>\n",
       "    </tr>\n",
       "    <tr>\n",
       "      <th>3</th>\n",
       "      <td>tt0323808</td>\n",
       "      <td>10</td>\n",
       "      <td>nm0059247</td>\n",
       "      <td>editor</td>\n",
       "      <td>NaN</td>\n",
       "    </tr>\n",
       "    <tr>\n",
       "      <th>4</th>\n",
       "      <td>tt0323808</td>\n",
       "      <td>1</td>\n",
       "      <td>nm3579312</td>\n",
       "      <td>actress</td>\n",
       "      <td>NaN</td>\n",
       "    </tr>\n",
       "  </tbody>\n",
       "</table>\n",
       "</div>"
      ],
      "text/plain": [
       "      tconst  ordering     nconst  category       job\n",
       "0  tt0111414         1  nm0246005     actor       NaN\n",
       "1  tt0111414         2  nm0398271  director       NaN\n",
       "2  tt0111414         3  nm3739909  producer  producer\n",
       "3  tt0323808        10  nm0059247    editor       NaN\n",
       "4  tt0323808         1  nm3579312   actress       NaN"
      ]
     },
     "execution_count": 11,
     "metadata": {},
     "output_type": "execute_result"
    }
   ],
   "source": [
    "imdb_df5 = pd.read_csv('zippedData/imdb.title.principals.csv.gz')\n",
    "\n",
    "# dropping the characters column as I will not be using this in my analysis.  It linked actors to their characters\n",
    "# in a particular movie ID and is NaN for everyone else.  \n",
    "imdb_df5.drop('characters', axis=1, inplace=True)\n",
    "\n",
    "imdb_df5.head()\n"
   ]
  },
  {
   "cell_type": "markdown",
   "metadata": {},
   "source": [
    "This csv links movie titles to various job titles, including actor, director, producer, etc.  It links again with \"nconst.\" Names for \"nconst\" are linked in the first csv I read in on this project.  "
   ]
  },
  {
   "cell_type": "code",
   "execution_count": 12,
   "metadata": {},
   "outputs": [
    {
     "data": {
      "text/html": [
       "<div>\n",
       "<style scoped>\n",
       "    .dataframe tbody tr th:only-of-type {\n",
       "        vertical-align: middle;\n",
       "    }\n",
       "\n",
       "    .dataframe tbody tr th {\n",
       "        vertical-align: top;\n",
       "    }\n",
       "\n",
       "    .dataframe thead th {\n",
       "        text-align: right;\n",
       "    }\n",
       "</style>\n",
       "<table border=\"1\" class=\"dataframe\">\n",
       "  <thead>\n",
       "    <tr style=\"text-align: right;\">\n",
       "      <th></th>\n",
       "      <th>tconst</th>\n",
       "      <th>averagerating</th>\n",
       "      <th>numvotes</th>\n",
       "    </tr>\n",
       "  </thead>\n",
       "  <tbody>\n",
       "    <tr>\n",
       "      <th>0</th>\n",
       "      <td>tt10356526</td>\n",
       "      <td>8.3</td>\n",
       "      <td>31</td>\n",
       "    </tr>\n",
       "    <tr>\n",
       "      <th>1</th>\n",
       "      <td>tt10384606</td>\n",
       "      <td>8.9</td>\n",
       "      <td>559</td>\n",
       "    </tr>\n",
       "    <tr>\n",
       "      <th>2</th>\n",
       "      <td>tt1042974</td>\n",
       "      <td>6.4</td>\n",
       "      <td>20</td>\n",
       "    </tr>\n",
       "    <tr>\n",
       "      <th>3</th>\n",
       "      <td>tt1043726</td>\n",
       "      <td>4.2</td>\n",
       "      <td>50352</td>\n",
       "    </tr>\n",
       "    <tr>\n",
       "      <th>4</th>\n",
       "      <td>tt1060240</td>\n",
       "      <td>6.5</td>\n",
       "      <td>21</td>\n",
       "    </tr>\n",
       "  </tbody>\n",
       "</table>\n",
       "</div>"
      ],
      "text/plain": [
       "       tconst  averagerating  numvotes\n",
       "0  tt10356526            8.3        31\n",
       "1  tt10384606            8.9       559\n",
       "2   tt1042974            6.4        20\n",
       "3   tt1043726            4.2     50352\n",
       "4   tt1060240            6.5        21"
      ]
     },
     "execution_count": 12,
     "metadata": {},
     "output_type": "execute_result"
    }
   ],
   "source": [
    "imdb_df6 = pd.read_csv('zippedData/imdb.title.ratings.csv.gz')\n",
    "\n",
    "imdb_df6.head()\n"
   ]
  },
  {
   "cell_type": "markdown",
   "metadata": {},
   "source": [
    "This csv links the average rating of a movie and the number of votes it received by \"tconst\" movie ID.  "
   ]
  },
  {
   "cell_type": "code",
   "execution_count": 13,
   "metadata": {},
   "outputs": [
    {
     "name": "stdout",
     "output_type": "stream",
     "text": [
      "73856\n"
     ]
    }
   ],
   "source": [
    "print(len(imdb_df6)) #73856"
   ]
  },
  {
   "cell_type": "markdown",
   "metadata": {},
   "source": [
    "## This section is the import of the csv for data from TheMovieDB.org"
   ]
  },
  {
   "cell_type": "code",
   "execution_count": 14,
   "metadata": {},
   "outputs": [
    {
     "data": {
      "text/html": [
       "<div>\n",
       "<style scoped>\n",
       "    .dataframe tbody tr th:only-of-type {\n",
       "        vertical-align: middle;\n",
       "    }\n",
       "\n",
       "    .dataframe tbody tr th {\n",
       "        vertical-align: top;\n",
       "    }\n",
       "\n",
       "    .dataframe thead th {\n",
       "        text-align: right;\n",
       "    }\n",
       "</style>\n",
       "<table border=\"1\" class=\"dataframe\">\n",
       "  <thead>\n",
       "    <tr style=\"text-align: right;\">\n",
       "      <th></th>\n",
       "      <th>genre_ids</th>\n",
       "      <th>id</th>\n",
       "      <th>original_language</th>\n",
       "      <th>original_title</th>\n",
       "      <th>popularity</th>\n",
       "      <th>release_date</th>\n",
       "      <th>title</th>\n",
       "      <th>vote_average</th>\n",
       "      <th>vote_count</th>\n",
       "    </tr>\n",
       "  </thead>\n",
       "  <tbody>\n",
       "    <tr>\n",
       "      <th>0</th>\n",
       "      <td>[12, 14, 10751]</td>\n",
       "      <td>12444</td>\n",
       "      <td>en</td>\n",
       "      <td>Harry Potter and the Deathly Hallows: Part 1</td>\n",
       "      <td>33.533</td>\n",
       "      <td>2010-11-19</td>\n",
       "      <td>Harry Potter and the Deathly Hallows: Part 1</td>\n",
       "      <td>7.7</td>\n",
       "      <td>10788</td>\n",
       "    </tr>\n",
       "    <tr>\n",
       "      <th>1</th>\n",
       "      <td>[14, 12, 16, 10751]</td>\n",
       "      <td>10191</td>\n",
       "      <td>en</td>\n",
       "      <td>How to Train Your Dragon</td>\n",
       "      <td>28.734</td>\n",
       "      <td>2010-03-26</td>\n",
       "      <td>How to Train Your Dragon</td>\n",
       "      <td>7.7</td>\n",
       "      <td>7610</td>\n",
       "    </tr>\n",
       "    <tr>\n",
       "      <th>2</th>\n",
       "      <td>[12, 28, 878]</td>\n",
       "      <td>10138</td>\n",
       "      <td>en</td>\n",
       "      <td>Iron Man 2</td>\n",
       "      <td>28.515</td>\n",
       "      <td>2010-05-07</td>\n",
       "      <td>Iron Man 2</td>\n",
       "      <td>6.8</td>\n",
       "      <td>12368</td>\n",
       "    </tr>\n",
       "    <tr>\n",
       "      <th>3</th>\n",
       "      <td>[16, 35, 10751]</td>\n",
       "      <td>862</td>\n",
       "      <td>en</td>\n",
       "      <td>Toy Story</td>\n",
       "      <td>28.005</td>\n",
       "      <td>1995-11-22</td>\n",
       "      <td>Toy Story</td>\n",
       "      <td>7.9</td>\n",
       "      <td>10174</td>\n",
       "    </tr>\n",
       "    <tr>\n",
       "      <th>4</th>\n",
       "      <td>[28, 878, 12]</td>\n",
       "      <td>27205</td>\n",
       "      <td>en</td>\n",
       "      <td>Inception</td>\n",
       "      <td>27.920</td>\n",
       "      <td>2010-07-16</td>\n",
       "      <td>Inception</td>\n",
       "      <td>8.3</td>\n",
       "      <td>22186</td>\n",
       "    </tr>\n",
       "  </tbody>\n",
       "</table>\n",
       "</div>"
      ],
      "text/plain": [
       "             genre_ids     id original_language  \\\n",
       "0      [12, 14, 10751]  12444                en   \n",
       "1  [14, 12, 16, 10751]  10191                en   \n",
       "2        [12, 28, 878]  10138                en   \n",
       "3      [16, 35, 10751]    862                en   \n",
       "4        [28, 878, 12]  27205                en   \n",
       "\n",
       "                                 original_title  popularity release_date  \\\n",
       "0  Harry Potter and the Deathly Hallows: Part 1      33.533   2010-11-19   \n",
       "1                      How to Train Your Dragon      28.734   2010-03-26   \n",
       "2                                    Iron Man 2      28.515   2010-05-07   \n",
       "3                                     Toy Story      28.005   1995-11-22   \n",
       "4                                     Inception      27.920   2010-07-16   \n",
       "\n",
       "                                          title  vote_average  vote_count  \n",
       "0  Harry Potter and the Deathly Hallows: Part 1           7.7       10788  \n",
       "1                      How to Train Your Dragon           7.7        7610  \n",
       "2                                    Iron Man 2           6.8       12368  \n",
       "3                                     Toy Story           7.9       10174  \n",
       "4                                     Inception           8.3       22186  "
      ]
     },
     "execution_count": 14,
     "metadata": {},
     "output_type": "execute_result"
    }
   ],
   "source": [
    "tmdb_df = pd.read_csv('zippedData/tmdb.movies.csv.gz')\n",
    "\n",
    "# dropping the blank column inserted upon read-in of this csv\n",
    "tmdb_df.drop('Unnamed: 0', axis=1, inplace=True)\n",
    "\n",
    "# Converting vote_average to float\n",
    "tmdb_df['vote_average'] = pd.to_numeric(tmdb_df['vote_average'],errors='coerce')\n",
    "\n",
    "tmdb_df.head()\n"
   ]
  },
  {
   "cell_type": "markdown",
   "metadata": {},
   "source": [
    "This csv gives information on a movie's ranking on this web site and the number of votes, as well as a popularity ranking. It also assigns an ID to the movie, which won't link to the IMDb ID, and it provies genre_ids, but does not provide a way to decode to what genre those ids are linked.  "
   ]
  },
  {
   "cell_type": "code",
   "execution_count": 15,
   "metadata": {},
   "outputs": [
    {
     "name": "stdout",
     "output_type": "stream",
     "text": [
      "26517\n"
     ]
    }
   ],
   "source": [
    "print(len(tmdb_df)) #26517"
   ]
  },
  {
   "cell_type": "code",
   "execution_count": 16,
   "metadata": {},
   "outputs": [
    {
     "data": {
      "text/plain": [
       "0"
      ]
     },
     "execution_count": 16,
     "metadata": {},
     "output_type": "execute_result"
    }
   ],
   "source": [
    "# Verifying no NaN values in the vote average column which will be used for analysis in this project\n",
    "tmdb_df['vote_average'].isna().sum()"
   ]
  },
  {
   "cell_type": "code",
   "execution_count": 17,
   "metadata": {},
   "outputs": [
    {
     "data": {
      "text/plain": [
       "array([ 7.7,  6.8,  7.9,  8.3,  6.1,  7.4,  7.2,  7.5,  6.6,  6. ,  6.7,\n",
       "        4.5,  7.3,  8.1,  6.3,  4.6,  5.7,  5.9,  8.2,  6.2,  6.4,  7.6,\n",
       "        6.5,  7.1,  5.6,  5.3,  7. ,  5.8,  4.9,  5.1,  5.5,  6.9,  5.4,\n",
       "        7.8,  4.7,  4.1,  4.8,  3.2,  8. ,  3.7,  5.2,  2.7,  4.4,  5. ,\n",
       "        2.9,  2. ,  4. ,  4.2,  3.9,  4.3,  3.5,  3.8,  3.6,  3.4,  3.3,\n",
       "        3.1,  3. ,  2.5,  2.6, 10. ,  2.2,  1.7,  2.8,  2.3,  1.6,  1.8,\n",
       "        2.4,  1.5,  8.6,  1.9,  9. ,  8.7,  0.5,  1. ,  8.4,  2.1,  8.8,\n",
       "        1.3,  9.5,  8.5,  9.8,  0. ,  8.9,  9.3,  9.4,  9.2,  0.8,  1.2,\n",
       "        1.4,  9.1,  9.7])"
      ]
     },
     "execution_count": 17,
     "metadata": {},
     "output_type": "execute_result"
    }
   ],
   "source": [
    "# Verifying no odd characters or strange data in this column\n",
    "tmdb_df['vote_average'].unique()"
   ]
  },
  {
   "cell_type": "markdown",
   "metadata": {},
   "source": [
    "## This section is for the import of the csv relating to Box Office Mojo data"
   ]
  },
  {
   "cell_type": "code",
   "execution_count": 18,
   "metadata": {},
   "outputs": [
    {
     "data": {
      "text/html": [
       "<div>\n",
       "<style scoped>\n",
       "    .dataframe tbody tr th:only-of-type {\n",
       "        vertical-align: middle;\n",
       "    }\n",
       "\n",
       "    .dataframe tbody tr th {\n",
       "        vertical-align: top;\n",
       "    }\n",
       "\n",
       "    .dataframe thead th {\n",
       "        text-align: right;\n",
       "    }\n",
       "</style>\n",
       "<table border=\"1\" class=\"dataframe\">\n",
       "  <thead>\n",
       "    <tr style=\"text-align: right;\">\n",
       "      <th></th>\n",
       "      <th>title</th>\n",
       "      <th>studio</th>\n",
       "      <th>domestic_gross</th>\n",
       "      <th>foreign_gross</th>\n",
       "      <th>year</th>\n",
       "    </tr>\n",
       "  </thead>\n",
       "  <tbody>\n",
       "    <tr>\n",
       "      <th>0</th>\n",
       "      <td>Toy Story 3</td>\n",
       "      <td>BV</td>\n",
       "      <td>415000000.0</td>\n",
       "      <td>652000000.0</td>\n",
       "      <td>2010</td>\n",
       "    </tr>\n",
       "    <tr>\n",
       "      <th>1</th>\n",
       "      <td>Alice in Wonderland (2010)</td>\n",
       "      <td>BV</td>\n",
       "      <td>334200000.0</td>\n",
       "      <td>691300000.0</td>\n",
       "      <td>2010</td>\n",
       "    </tr>\n",
       "    <tr>\n",
       "      <th>2</th>\n",
       "      <td>Harry Potter and the Deathly Hallows Part 1</td>\n",
       "      <td>WB</td>\n",
       "      <td>296000000.0</td>\n",
       "      <td>664300000.0</td>\n",
       "      <td>2010</td>\n",
       "    </tr>\n",
       "    <tr>\n",
       "      <th>3</th>\n",
       "      <td>Inception</td>\n",
       "      <td>WB</td>\n",
       "      <td>292600000.0</td>\n",
       "      <td>535700000.0</td>\n",
       "      <td>2010</td>\n",
       "    </tr>\n",
       "    <tr>\n",
       "      <th>4</th>\n",
       "      <td>Shrek Forever After</td>\n",
       "      <td>P/DW</td>\n",
       "      <td>238700000.0</td>\n",
       "      <td>513900000.0</td>\n",
       "      <td>2010</td>\n",
       "    </tr>\n",
       "  </tbody>\n",
       "</table>\n",
       "</div>"
      ],
      "text/plain": [
       "                                         title studio  domestic_gross  \\\n",
       "0                                  Toy Story 3     BV     415000000.0   \n",
       "1                   Alice in Wonderland (2010)     BV     334200000.0   \n",
       "2  Harry Potter and the Deathly Hallows Part 1     WB     296000000.0   \n",
       "3                                    Inception     WB     292600000.0   \n",
       "4                          Shrek Forever After   P/DW     238700000.0   \n",
       "\n",
       "   foreign_gross  year  \n",
       "0    652000000.0  2010  \n",
       "1    691300000.0  2010  \n",
       "2    664300000.0  2010  \n",
       "3    535700000.0  2010  \n",
       "4    513900000.0  2010  "
      ]
     },
     "execution_count": 18,
     "metadata": {},
     "output_type": "execute_result"
    }
   ],
   "source": [
    "bom_df = pd.read_csv('zippedData/bom.movie_gross.csv.gz')\n",
    "\n",
    "cols = ['domestic_gross', 'foreign_gross']\n",
    "\n",
    "for col in cols:\n",
    "    bom_df[col] = pd.to_numeric(bom_df[col], errors='coerce')\n",
    "\n",
    "bom_df.head()\n"
   ]
  },
  {
   "cell_type": "markdown",
   "metadata": {},
   "source": [
    "This csv links a movie title to its domestic and foreign profit, as well as the year released. It provides an abbreviation for studio, but no key available to determine what they mean.  "
   ]
  },
  {
   "cell_type": "code",
   "execution_count": 19,
   "metadata": {},
   "outputs": [
    {
     "name": "stdout",
     "output_type": "stream",
     "text": [
      "3387\n"
     ]
    }
   ],
   "source": [
    "print(len(bom_df)) # 3387"
   ]
  },
  {
   "cell_type": "code",
   "execution_count": 20,
   "metadata": {},
   "outputs": [
    {
     "name": "stdout",
     "output_type": "stream",
     "text": [
      "domestic_gross \n",
      " 28\n",
      "foreign_gross \n",
      " 1355\n"
     ]
    }
   ],
   "source": [
    "# Look for NaN values in the columns of interest\n",
    "for col in cols:\n",
    "    print(col, '\\n', bom_df[col].isna().sum())\n",
    "\n",
    "# domestic - 28 Nans; foreign - 1355.  "
   ]
  },
  {
   "cell_type": "code",
   "execution_count": 21,
   "metadata": {},
   "outputs": [
    {
     "name": "stdout",
     "output_type": "stream",
     "text": [
      "domestic_gross \n",
      " 1100000.0      32\n",
      "1000000.0      30\n",
      "1300000.0      30\n",
      "1200000.0      25\n",
      "1400000.0      23\n",
      "               ..\n",
      "68800.0         1\n",
      "87000000.0      1\n",
      "739000.0        1\n",
      "336000000.0     1\n",
      "727000.0        1\n",
      "Name: domestic_gross, Length: 1797, dtype: int64 \n",
      "\n",
      "\n",
      "foreign_gross \n",
      " 1200000.0      23\n",
      "1100000.0      14\n",
      "4200000.0      12\n",
      "1900000.0      12\n",
      "2500000.0      11\n",
      "               ..\n",
      "248100000.0     1\n",
      "494100000.0     1\n",
      "9500.0          1\n",
      "92000000.0      1\n",
      "128000.0        1\n",
      "Name: foreign_gross, Length: 1199, dtype: int64 \n",
      "\n",
      "\n"
     ]
    }
   ],
   "source": [
    "# Look for any odd values in the columns of interest\n",
    "for col in cols:\n",
    "    print(col, '\\n', bom_df[col].value_counts(), '\\n\\n')\n",
    "    \n",
    "# None found"
   ]
  },
  {
   "cell_type": "markdown",
   "metadata": {},
   "source": [
    "## This section is for the import of data from 'tn'"
   ]
  },
  {
   "cell_type": "code",
   "execution_count": 22,
   "metadata": {},
   "outputs": [
    {
     "data": {
      "text/html": [
       "<div>\n",
       "<style scoped>\n",
       "    .dataframe tbody tr th:only-of-type {\n",
       "        vertical-align: middle;\n",
       "    }\n",
       "\n",
       "    .dataframe tbody tr th {\n",
       "        vertical-align: top;\n",
       "    }\n",
       "\n",
       "    .dataframe thead th {\n",
       "        text-align: right;\n",
       "    }\n",
       "</style>\n",
       "<table border=\"1\" class=\"dataframe\">\n",
       "  <thead>\n",
       "    <tr style=\"text-align: right;\">\n",
       "      <th></th>\n",
       "      <th>id</th>\n",
       "      <th>release_date</th>\n",
       "      <th>movie</th>\n",
       "      <th>production_budget</th>\n",
       "      <th>domestic_gross</th>\n",
       "      <th>worldwide_gross</th>\n",
       "    </tr>\n",
       "  </thead>\n",
       "  <tbody>\n",
       "    <tr>\n",
       "      <th>0</th>\n",
       "      <td>1</td>\n",
       "      <td>Dec 18, 2009</td>\n",
       "      <td>Avatar</td>\n",
       "      <td>425000000</td>\n",
       "      <td>760507625</td>\n",
       "      <td>2776345279</td>\n",
       "    </tr>\n",
       "    <tr>\n",
       "      <th>1</th>\n",
       "      <td>2</td>\n",
       "      <td>May 20, 2011</td>\n",
       "      <td>Pirates of the Caribbean: On Stranger Tides</td>\n",
       "      <td>410600000</td>\n",
       "      <td>241063875</td>\n",
       "      <td>1045663875</td>\n",
       "    </tr>\n",
       "    <tr>\n",
       "      <th>2</th>\n",
       "      <td>3</td>\n",
       "      <td>Jun 7, 2019</td>\n",
       "      <td>Dark Phoenix</td>\n",
       "      <td>350000000</td>\n",
       "      <td>42762350</td>\n",
       "      <td>149762350</td>\n",
       "    </tr>\n",
       "    <tr>\n",
       "      <th>3</th>\n",
       "      <td>4</td>\n",
       "      <td>May 1, 2015</td>\n",
       "      <td>Avengers: Age of Ultron</td>\n",
       "      <td>330600000</td>\n",
       "      <td>459005868</td>\n",
       "      <td>1403013963</td>\n",
       "    </tr>\n",
       "    <tr>\n",
       "      <th>4</th>\n",
       "      <td>5</td>\n",
       "      <td>Dec 15, 2017</td>\n",
       "      <td>Star Wars Ep. VIII: The Last Jedi</td>\n",
       "      <td>317000000</td>\n",
       "      <td>620181382</td>\n",
       "      <td>1316721747</td>\n",
       "    </tr>\n",
       "  </tbody>\n",
       "</table>\n",
       "</div>"
      ],
      "text/plain": [
       "   id  release_date                                        movie  \\\n",
       "0   1  Dec 18, 2009                                       Avatar   \n",
       "1   2  May 20, 2011  Pirates of the Caribbean: On Stranger Tides   \n",
       "2   3   Jun 7, 2019                                 Dark Phoenix   \n",
       "3   4   May 1, 2015                      Avengers: Age of Ultron   \n",
       "4   5  Dec 15, 2017            Star Wars Ep. VIII: The Last Jedi   \n",
       "\n",
       "   production_budget  domestic_gross  worldwide_gross  \n",
       "0          425000000       760507625       2776345279  \n",
       "1          410600000       241063875       1045663875  \n",
       "2          350000000        42762350        149762350  \n",
       "3          330600000       459005868       1403013963  \n",
       "4          317000000       620181382       1316721747  "
      ]
     },
     "execution_count": 22,
     "metadata": {},
     "output_type": "execute_result"
    }
   ],
   "source": [
    "tn_df = pd.read_csv('zippedData/tn.movie_budgets.csv.gz')\n",
    "\n",
    "# list of columns that will be converted to numeric\n",
    "cols = ['production_budget', 'domestic_gross', 'worldwide_gross']\n",
    "\n",
    "# removal of $ and , so that columns can be converted to numeric\n",
    "tn_df[cols] = tn_df[cols].replace({'\\$':'', ',':''}, regex = True)\n",
    "\n",
    "# conversion of the specified columns to numeric\n",
    "for col in cols:\n",
    "    tn_df[col] = pd.to_numeric(tn_df[col], errors='coerce')\n",
    "\n",
    "tn_df.head()\n"
   ]
  },
  {
   "cell_type": "markdown",
   "metadata": {},
   "source": [
    "It is unclear which site this csv came from.  It links release date with movie title, production budget, and the domestic and worldwide gross of each movie. "
   ]
  },
  {
   "cell_type": "code",
   "execution_count": 23,
   "metadata": {},
   "outputs": [
    {
     "name": "stdout",
     "output_type": "stream",
     "text": [
      "5782\n"
     ]
    }
   ],
   "source": [
    "print(len(tn_df)) # 5782\n"
   ]
  },
  {
   "cell_type": "code",
   "execution_count": 24,
   "metadata": {},
   "outputs": [
    {
     "name": "stdout",
     "output_type": "stream",
     "text": [
      "production_budget \n",
      " 0\n",
      "domestic_gross \n",
      " 0\n",
      "worldwide_gross \n",
      " 0\n"
     ]
    }
   ],
   "source": [
    "# Verifying no NaN values in the columns necessary for analysis\n",
    "for col in cols:\n",
    "    print(col, '\\n', tn_df[col].isna().sum())\n",
    "\n",
    "# No NaN values present"
   ]
  },
  {
   "cell_type": "code",
   "execution_count": 25,
   "metadata": {},
   "outputs": [
    {
     "name": "stdout",
     "output_type": "stream",
     "text": [
      "production_budget \n",
      " 20000000    231\n",
      "10000000    212\n",
      "30000000    177\n",
      "15000000    173\n",
      "25000000    171\n",
      "           ... \n",
      "16400000      1\n",
      "103000        1\n",
      "6537890       1\n",
      "780000        1\n",
      "28500000      1\n",
      "Name: production_budget, Length: 509, dtype: int64 \n",
      "\n",
      "\n",
      "domestic_gross \n",
      " 0           548\n",
      "8000000       9\n",
      "2000000       7\n",
      "7000000       7\n",
      "10000000      6\n",
      "           ... \n",
      "449865        1\n",
      "10547117      1\n",
      "4476235       1\n",
      "56653         1\n",
      "40157856      1\n",
      "Name: domestic_gross, Length: 5164, dtype: int64 \n",
      "\n",
      "\n",
      "worldwide_gross \n",
      " 0            367\n",
      "8000000        9\n",
      "7000000        6\n",
      "2000000        6\n",
      "4000000        4\n",
      "            ... \n",
      "166000000      1\n",
      "42843521       1\n",
      "101173038      1\n",
      "478595         1\n",
      "12996          1\n",
      "Name: worldwide_gross, Length: 5356, dtype: int64 \n",
      "\n",
      "\n"
     ]
    }
   ],
   "source": [
    "# Look for any odd values in the columns of interest\n",
    "for col in cols:\n",
    "    print(col, '\\n', tn_df[col].value_counts(), '\\n\\n')\n",
    "\n",
    "# There are a number of movies with 0 revenue domestic and some with 0 revenue worldwide.  "
   ]
  },
  {
   "cell_type": "markdown",
   "metadata": {},
   "source": [
    "## This section is for the import of the Rotten Tomatoes data"
   ]
  },
  {
   "cell_type": "code",
   "execution_count": 26,
   "metadata": {},
   "outputs": [
    {
     "data": {
      "text/html": [
       "<div>\n",
       "<style scoped>\n",
       "    .dataframe tbody tr th:only-of-type {\n",
       "        vertical-align: middle;\n",
       "    }\n",
       "\n",
       "    .dataframe tbody tr th {\n",
       "        vertical-align: top;\n",
       "    }\n",
       "\n",
       "    .dataframe thead th {\n",
       "        text-align: right;\n",
       "    }\n",
       "</style>\n",
       "<table border=\"1\" class=\"dataframe\">\n",
       "  <thead>\n",
       "    <tr style=\"text-align: right;\">\n",
       "      <th></th>\n",
       "      <th>id</th>\n",
       "      <th>synopsis</th>\n",
       "      <th>rating</th>\n",
       "      <th>genre</th>\n",
       "      <th>director</th>\n",
       "      <th>writer</th>\n",
       "      <th>theater_date</th>\n",
       "      <th>dvd_date</th>\n",
       "      <th>currency</th>\n",
       "      <th>box_office</th>\n",
       "      <th>runtime</th>\n",
       "      <th>studio</th>\n",
       "    </tr>\n",
       "  </thead>\n",
       "  <tbody>\n",
       "    <tr>\n",
       "      <th>0</th>\n",
       "      <td>1</td>\n",
       "      <td>This gritty, fast-paced, and innovative police...</td>\n",
       "      <td>R</td>\n",
       "      <td>Action and Adventure|Classics|Drama</td>\n",
       "      <td>William Friedkin</td>\n",
       "      <td>Ernest Tidyman</td>\n",
       "      <td>Oct 9, 1971</td>\n",
       "      <td>Sep 25, 2001</td>\n",
       "      <td>NaN</td>\n",
       "      <td>NaN</td>\n",
       "      <td>104 minutes</td>\n",
       "      <td>NaN</td>\n",
       "    </tr>\n",
       "    <tr>\n",
       "      <th>1</th>\n",
       "      <td>3</td>\n",
       "      <td>New York City, not-too-distant-future: Eric Pa...</td>\n",
       "      <td>R</td>\n",
       "      <td>Drama|Science Fiction and Fantasy</td>\n",
       "      <td>David Cronenberg</td>\n",
       "      <td>David Cronenberg|Don DeLillo</td>\n",
       "      <td>Aug 17, 2012</td>\n",
       "      <td>Jan 1, 2013</td>\n",
       "      <td>$</td>\n",
       "      <td>600,000</td>\n",
       "      <td>108 minutes</td>\n",
       "      <td>Entertainment One</td>\n",
       "    </tr>\n",
       "    <tr>\n",
       "      <th>2</th>\n",
       "      <td>5</td>\n",
       "      <td>Illeana Douglas delivers a superb performance ...</td>\n",
       "      <td>R</td>\n",
       "      <td>Drama|Musical and Performing Arts</td>\n",
       "      <td>Allison Anders</td>\n",
       "      <td>Allison Anders</td>\n",
       "      <td>Sep 13, 1996</td>\n",
       "      <td>Apr 18, 2000</td>\n",
       "      <td>NaN</td>\n",
       "      <td>NaN</td>\n",
       "      <td>116 minutes</td>\n",
       "      <td>NaN</td>\n",
       "    </tr>\n",
       "    <tr>\n",
       "      <th>3</th>\n",
       "      <td>6</td>\n",
       "      <td>Michael Douglas runs afoul of a treacherous su...</td>\n",
       "      <td>R</td>\n",
       "      <td>Drama|Mystery and Suspense</td>\n",
       "      <td>Barry Levinson</td>\n",
       "      <td>Paul Attanasio|Michael Crichton</td>\n",
       "      <td>Dec 9, 1994</td>\n",
       "      <td>Aug 27, 1997</td>\n",
       "      <td>NaN</td>\n",
       "      <td>NaN</td>\n",
       "      <td>128 minutes</td>\n",
       "      <td>NaN</td>\n",
       "    </tr>\n",
       "    <tr>\n",
       "      <th>4</th>\n",
       "      <td>7</td>\n",
       "      <td>NaN</td>\n",
       "      <td>NR</td>\n",
       "      <td>Drama|Romance</td>\n",
       "      <td>Rodney Bennett</td>\n",
       "      <td>Giles Cooper</td>\n",
       "      <td>NaN</td>\n",
       "      <td>NaN</td>\n",
       "      <td>NaN</td>\n",
       "      <td>NaN</td>\n",
       "      <td>200 minutes</td>\n",
       "      <td>NaN</td>\n",
       "    </tr>\n",
       "  </tbody>\n",
       "</table>\n",
       "</div>"
      ],
      "text/plain": [
       "   id                                           synopsis rating  \\\n",
       "0   1  This gritty, fast-paced, and innovative police...      R   \n",
       "1   3  New York City, not-too-distant-future: Eric Pa...      R   \n",
       "2   5  Illeana Douglas delivers a superb performance ...      R   \n",
       "3   6  Michael Douglas runs afoul of a treacherous su...      R   \n",
       "4   7                                                NaN     NR   \n",
       "\n",
       "                                 genre          director  \\\n",
       "0  Action and Adventure|Classics|Drama  William Friedkin   \n",
       "1    Drama|Science Fiction and Fantasy  David Cronenberg   \n",
       "2    Drama|Musical and Performing Arts    Allison Anders   \n",
       "3           Drama|Mystery and Suspense    Barry Levinson   \n",
       "4                        Drama|Romance    Rodney Bennett   \n",
       "\n",
       "                            writer  theater_date      dvd_date currency  \\\n",
       "0                   Ernest Tidyman   Oct 9, 1971  Sep 25, 2001      NaN   \n",
       "1     David Cronenberg|Don DeLillo  Aug 17, 2012   Jan 1, 2013        $   \n",
       "2                   Allison Anders  Sep 13, 1996  Apr 18, 2000      NaN   \n",
       "3  Paul Attanasio|Michael Crichton   Dec 9, 1994  Aug 27, 1997      NaN   \n",
       "4                     Giles Cooper           NaN           NaN      NaN   \n",
       "\n",
       "  box_office      runtime             studio  \n",
       "0        NaN  104 minutes                NaN  \n",
       "1    600,000  108 minutes  Entertainment One  \n",
       "2        NaN  116 minutes                NaN  \n",
       "3        NaN  128 minutes                NaN  \n",
       "4        NaN  200 minutes                NaN  "
      ]
     },
     "execution_count": 26,
     "metadata": {},
     "output_type": "execute_result"
    }
   ],
   "source": [
    "rt_df1 = pd.read_csv('zippedData/rt.movie_info.tsv.gz', sep='\\t')\n",
    "\n",
    "rt_df1.head()\n"
   ]
  },
  {
   "cell_type": "markdown",
   "metadata": {},
   "source": [
    "This file provies information on movie titles, including an ID that is assigned to each movie, but no movie title. Will not be able to link this data to the other files.  "
   ]
  },
  {
   "cell_type": "code",
   "execution_count": 27,
   "metadata": {},
   "outputs": [
    {
     "name": "stdout",
     "output_type": "stream",
     "text": [
      "1560\n"
     ]
    }
   ],
   "source": [
    "print(len(rt_df1)) # 1560"
   ]
  },
  {
   "cell_type": "code",
   "execution_count": 28,
   "metadata": {},
   "outputs": [
    {
     "data": {
      "text/plain": [
       "1220"
      ]
     },
     "execution_count": 28,
     "metadata": {},
     "output_type": "execute_result"
    }
   ],
   "source": [
    "# checking to see how many of the movies are missing box_office values.  \n",
    "rt_df1['box_office'].isna().sum() #1220"
   ]
  },
  {
   "cell_type": "markdown",
   "metadata": {},
   "source": [
    "I can analyze ratings v. box office for only 340 movies for this dataset. There is no way to connect this data to other sets as there is no ID in common and no movie titles listed for this data.  Would not be able to match any of this data to the data set that contains film budget.  "
   ]
  },
  {
   "cell_type": "code",
   "execution_count": 29,
   "metadata": {},
   "outputs": [
    {
     "data": {
      "text/html": [
       "<div>\n",
       "<style scoped>\n",
       "    .dataframe tbody tr th:only-of-type {\n",
       "        vertical-align: middle;\n",
       "    }\n",
       "\n",
       "    .dataframe tbody tr th {\n",
       "        vertical-align: top;\n",
       "    }\n",
       "\n",
       "    .dataframe thead th {\n",
       "        text-align: right;\n",
       "    }\n",
       "</style>\n",
       "<table border=\"1\" class=\"dataframe\">\n",
       "  <thead>\n",
       "    <tr style=\"text-align: right;\">\n",
       "      <th></th>\n",
       "      <th>id</th>\n",
       "      <th>rating</th>\n",
       "      <th>fresh</th>\n",
       "      <th>critic</th>\n",
       "      <th>top_critic</th>\n",
       "      <th>publisher</th>\n",
       "      <th>date</th>\n",
       "    </tr>\n",
       "  </thead>\n",
       "  <tbody>\n",
       "    <tr>\n",
       "      <th>0</th>\n",
       "      <td>3</td>\n",
       "      <td>3/5</td>\n",
       "      <td>fresh</td>\n",
       "      <td>PJ Nabarro</td>\n",
       "      <td>0</td>\n",
       "      <td>Patrick Nabarro</td>\n",
       "      <td>November 10, 2018</td>\n",
       "    </tr>\n",
       "    <tr>\n",
       "      <th>1</th>\n",
       "      <td>3</td>\n",
       "      <td>NaN</td>\n",
       "      <td>rotten</td>\n",
       "      <td>Annalee Newitz</td>\n",
       "      <td>0</td>\n",
       "      <td>io9.com</td>\n",
       "      <td>May 23, 2018</td>\n",
       "    </tr>\n",
       "    <tr>\n",
       "      <th>2</th>\n",
       "      <td>3</td>\n",
       "      <td>NaN</td>\n",
       "      <td>fresh</td>\n",
       "      <td>Sean Axmaker</td>\n",
       "      <td>0</td>\n",
       "      <td>Stream on Demand</td>\n",
       "      <td>January 4, 2018</td>\n",
       "    </tr>\n",
       "    <tr>\n",
       "      <th>3</th>\n",
       "      <td>3</td>\n",
       "      <td>NaN</td>\n",
       "      <td>fresh</td>\n",
       "      <td>Daniel Kasman</td>\n",
       "      <td>0</td>\n",
       "      <td>MUBI</td>\n",
       "      <td>November 16, 2017</td>\n",
       "    </tr>\n",
       "    <tr>\n",
       "      <th>4</th>\n",
       "      <td>3</td>\n",
       "      <td>NaN</td>\n",
       "      <td>fresh</td>\n",
       "      <td>NaN</td>\n",
       "      <td>0</td>\n",
       "      <td>Cinema Scope</td>\n",
       "      <td>October 12, 2017</td>\n",
       "    </tr>\n",
       "  </tbody>\n",
       "</table>\n",
       "</div>"
      ],
      "text/plain": [
       "   id rating   fresh          critic  top_critic         publisher  \\\n",
       "0   3    3/5   fresh      PJ Nabarro           0   Patrick Nabarro   \n",
       "1   3    NaN  rotten  Annalee Newitz           0           io9.com   \n",
       "2   3    NaN   fresh    Sean Axmaker           0  Stream on Demand   \n",
       "3   3    NaN   fresh   Daniel Kasman           0              MUBI   \n",
       "4   3    NaN   fresh             NaN           0      Cinema Scope   \n",
       "\n",
       "                date  \n",
       "0  November 10, 2018  \n",
       "1       May 23, 2018  \n",
       "2    January 4, 2018  \n",
       "3  November 16, 2017  \n",
       "4   October 12, 2017  "
      ]
     },
     "execution_count": 29,
     "metadata": {},
     "output_type": "execute_result"
    }
   ],
   "source": [
    "rt_df2 = pd.read_csv('Data/rt.reviews.tsv', usecols = ['id','rating', 'fresh', 'critic', \n",
    "                   'top_critic', 'publisher', 'date'], sep='\\t')\n",
    "rt_df2.groupby('id') \n",
    "\n",
    "rt_df2.head()\n"
   ]
  },
  {
   "cell_type": "markdown",
   "metadata": {},
   "source": [
    "This data provides a link to the other Rotten Tomatoes data via movie ID.  I can link those movies to their Rotten Tomatoes rating using this data. Each movie ID has more than one row associated with a review from a different critic.  I did not import the text comment portion of the critic reviews as it created problems with the import and I had no need for that information in this particular analysis. "
   ]
  },
  {
   "cell_type": "code",
   "execution_count": 30,
   "metadata": {},
   "outputs": [
    {
     "data": {
      "text/html": [
       "<div>\n",
       "<style scoped>\n",
       "    .dataframe tbody tr th:only-of-type {\n",
       "        vertical-align: middle;\n",
       "    }\n",
       "\n",
       "    .dataframe tbody tr th {\n",
       "        vertical-align: top;\n",
       "    }\n",
       "\n",
       "    .dataframe thead th {\n",
       "        text-align: right;\n",
       "    }\n",
       "</style>\n",
       "<table border=\"1\" class=\"dataframe\">\n",
       "  <thead>\n",
       "    <tr style=\"text-align: right;\">\n",
       "      <th></th>\n",
       "      <th>id</th>\n",
       "      <th>rating</th>\n",
       "      <th>fresh</th>\n",
       "      <th>critic</th>\n",
       "      <th>top_critic</th>\n",
       "      <th>publisher</th>\n",
       "      <th>date</th>\n",
       "    </tr>\n",
       "  </thead>\n",
       "  <tbody>\n",
       "    <tr>\n",
       "      <th>0</th>\n",
       "      <td>3</td>\n",
       "      <td>3</td>\n",
       "      <td>fresh</td>\n",
       "      <td>PJ Nabarro</td>\n",
       "      <td>0</td>\n",
       "      <td>Patrick Nabarro</td>\n",
       "      <td>November 10, 2018</td>\n",
       "    </tr>\n",
       "    <tr>\n",
       "      <th>1</th>\n",
       "      <td>3</td>\n",
       "      <td>NaN</td>\n",
       "      <td>rotten</td>\n",
       "      <td>Annalee Newitz</td>\n",
       "      <td>0</td>\n",
       "      <td>io9.com</td>\n",
       "      <td>May 23, 2018</td>\n",
       "    </tr>\n",
       "    <tr>\n",
       "      <th>2</th>\n",
       "      <td>3</td>\n",
       "      <td>NaN</td>\n",
       "      <td>fresh</td>\n",
       "      <td>Sean Axmaker</td>\n",
       "      <td>0</td>\n",
       "      <td>Stream on Demand</td>\n",
       "      <td>January 4, 2018</td>\n",
       "    </tr>\n",
       "    <tr>\n",
       "      <th>3</th>\n",
       "      <td>3</td>\n",
       "      <td>NaN</td>\n",
       "      <td>fresh</td>\n",
       "      <td>Daniel Kasman</td>\n",
       "      <td>0</td>\n",
       "      <td>MUBI</td>\n",
       "      <td>November 16, 2017</td>\n",
       "    </tr>\n",
       "    <tr>\n",
       "      <th>4</th>\n",
       "      <td>3</td>\n",
       "      <td>NaN</td>\n",
       "      <td>fresh</td>\n",
       "      <td>NaN</td>\n",
       "      <td>0</td>\n",
       "      <td>Cinema Scope</td>\n",
       "      <td>October 12, 2017</td>\n",
       "    </tr>\n",
       "  </tbody>\n",
       "</table>\n",
       "</div>"
      ],
      "text/plain": [
       "   id rating   fresh          critic  top_critic         publisher  \\\n",
       "0   3      3   fresh      PJ Nabarro           0   Patrick Nabarro   \n",
       "1   3    NaN  rotten  Annalee Newitz           0           io9.com   \n",
       "2   3    NaN   fresh    Sean Axmaker           0  Stream on Demand   \n",
       "3   3    NaN   fresh   Daniel Kasman           0              MUBI   \n",
       "4   3    NaN   fresh             NaN           0      Cinema Scope   \n",
       "\n",
       "                date  \n",
       "0  November 10, 2018  \n",
       "1       May 23, 2018  \n",
       "2    January 4, 2018  \n",
       "3  November 16, 2017  \n",
       "4   October 12, 2017  "
      ]
     },
     "execution_count": 30,
     "metadata": {},
     "output_type": "execute_result"
    }
   ],
   "source": [
    "rt_df2['rating']= rt_df2['rating'].str.split(\"/\", n = 1, expand = True) \n",
    "\n",
    "rt_df2.head()"
   ]
  },
  {
   "cell_type": "markdown",
   "metadata": {},
   "source": [
    "Preparing the data to form a column with the mean of the ratings for each movie given that there are many movies that have NaN values for ratings by particular critics.  The mean rating will be more informative. The ratings are #/5 format, since the ratings are based on a 1-5 scale.  Splitting the data so that only the rating remains. "
   ]
  },
  {
   "cell_type": "code",
   "execution_count": 31,
   "metadata": {},
   "outputs": [
    {
     "data": {
      "text/html": [
       "<div>\n",
       "<style scoped>\n",
       "    .dataframe tbody tr th:only-of-type {\n",
       "        vertical-align: middle;\n",
       "    }\n",
       "\n",
       "    .dataframe tbody tr th {\n",
       "        vertical-align: top;\n",
       "    }\n",
       "\n",
       "    .dataframe thead th {\n",
       "        text-align: right;\n",
       "    }\n",
       "</style>\n",
       "<table border=\"1\" class=\"dataframe\">\n",
       "  <thead>\n",
       "    <tr style=\"text-align: right;\">\n",
       "      <th></th>\n",
       "      <th>id</th>\n",
       "      <th>rating</th>\n",
       "      <th>fresh</th>\n",
       "      <th>critic</th>\n",
       "      <th>top_critic</th>\n",
       "      <th>publisher</th>\n",
       "      <th>date</th>\n",
       "    </tr>\n",
       "  </thead>\n",
       "  <tbody>\n",
       "    <tr>\n",
       "      <th>0</th>\n",
       "      <td>3</td>\n",
       "      <td>3</td>\n",
       "      <td>fresh</td>\n",
       "      <td>PJ Nabarro</td>\n",
       "      <td>0</td>\n",
       "      <td>Patrick Nabarro</td>\n",
       "      <td>November 10, 2018</td>\n",
       "    </tr>\n",
       "    <tr>\n",
       "      <th>6</th>\n",
       "      <td>3</td>\n",
       "      <td>C</td>\n",
       "      <td>rotten</td>\n",
       "      <td>Eric D. Snider</td>\n",
       "      <td>0</td>\n",
       "      <td>EricDSnider.com</td>\n",
       "      <td>July 17, 2013</td>\n",
       "    </tr>\n",
       "    <tr>\n",
       "      <th>7</th>\n",
       "      <td>3</td>\n",
       "      <td>2</td>\n",
       "      <td>rotten</td>\n",
       "      <td>Matt Kelemen</td>\n",
       "      <td>0</td>\n",
       "      <td>Las Vegas CityLife</td>\n",
       "      <td>April 21, 2013</td>\n",
       "    </tr>\n",
       "    <tr>\n",
       "      <th>11</th>\n",
       "      <td>3</td>\n",
       "      <td>B-</td>\n",
       "      <td>fresh</td>\n",
       "      <td>Emanuel Levy</td>\n",
       "      <td>0</td>\n",
       "      <td>EmanuelLevy.Com</td>\n",
       "      <td>February 3, 2013</td>\n",
       "    </tr>\n",
       "    <tr>\n",
       "      <th>12</th>\n",
       "      <td>3</td>\n",
       "      <td>2</td>\n",
       "      <td>rotten</td>\n",
       "      <td>Christian Toto</td>\n",
       "      <td>0</td>\n",
       "      <td>Big Hollywood</td>\n",
       "      <td>January 15, 2013</td>\n",
       "    </tr>\n",
       "  </tbody>\n",
       "</table>\n",
       "</div>"
      ],
      "text/plain": [
       "    id rating   fresh          critic  top_critic           publisher  \\\n",
       "0    3      3   fresh      PJ Nabarro           0     Patrick Nabarro   \n",
       "6    3      C  rotten  Eric D. Snider           0     EricDSnider.com   \n",
       "7    3      2  rotten    Matt Kelemen           0  Las Vegas CityLife   \n",
       "11   3     B-   fresh    Emanuel Levy           0     EmanuelLevy.Com   \n",
       "12   3      2  rotten  Christian Toto           0       Big Hollywood   \n",
       "\n",
       "                 date  \n",
       "0   November 10, 2018  \n",
       "6       July 17, 2013  \n",
       "7      April 21, 2013  \n",
       "11   February 3, 2013  \n",
       "12   January 15, 2013  "
      ]
     },
     "execution_count": 31,
     "metadata": {},
     "output_type": "execute_result"
    }
   ],
   "source": [
    "# Removing Nan rows\n",
    "rt_df2 = rt_df2[rt_df2['rating'].notna()]\n",
    "\n",
    "rt_df2.head()"
   ]
  },
  {
   "cell_type": "code",
   "execution_count": 32,
   "metadata": {},
   "outputs": [
    {
     "name": "stdout",
     "output_type": "stream",
     "text": [
      "['3' 'C' '2' 'B-' 'B' '4' '6' '1' '8' '2.5' '2.0' '7' 'A-' '5' 'F' '3.5'\n",
      " 'D+' '1.5' 'B+' '9' '7.5' '5.5' 'C-' 'C+' '0' '0.5' 'D' '3.1' '4.5' 'D-'\n",
      " 'A+' 'A' '4.0' '9.5' '2.1' '6.5' '3.7' '8.4' '7.2' '2.2' '7.7' '5.0'\n",
      " '8.5' '3.0' '2.3' '8.6' '2.7' '4.2' '5.8' '7.1' 'N' 'R' '5.9' '2.4' '1.9'\n",
      " '4.9' '7.4' '8.8' '3.8' '6.8' '7.3' '7.0' '3.2' '6.3' '7.6' '8.1' '3.6'\n",
      " '1.8' '8.9' '8.2' '8.3' '2.6' '4.1' 'F+' '6.0' '1.0' '7.9' '8.7' '4.3'\n",
      " '9.6' '9.0' '1.7' '6.7' '8.0' '9.2' '5.2' '4.7' '6.2' '3.4' '9.7' '3.3'\n",
      " '4.8' '1.6' '1-5' '7.8' 'F-' '4.4' '6.9' 'T' '9.8' '3 1']\n"
     ]
    }
   ],
   "source": [
    "#Noting that some of the ratings are letters rather than numbers, print a list of unique values found in the ratings\n",
    "\n",
    "print(rt_df2['rating'].unique())"
   ]
  },
  {
   "cell_type": "code",
   "execution_count": 33,
   "metadata": {},
   "outputs": [
    {
     "name": "stdout",
     "output_type": "stream",
     "text": [
      "['3' '2' '4' '6' '1' '8' '2.5' '2.0' '7' '5' '3.5' '1.5' '9' '7.5' '5.5'\n",
      " '0' '0.5' '3.1' '4.5' '4.0' '9.5' '2.1' '6.5' '3.7' '8.4' '7.2' '2.2'\n",
      " '7.7' '5.0' '8.5' '3.0' '2.3' '8.6' '2.7' '4.2' '5.8' '7.1' '5.9' '2.4'\n",
      " '1.9' '4.9' '7.4' '8.8' '3.8' '6.8' '7.3' '7.0' '3.2' '6.3' '7.6' '8.1'\n",
      " '3.6' '1.8' '8.9' '8.2' '8.3' '2.6' '4.1' '6.0' '1.0' '7.9' '8.7' '4.3'\n",
      " '9.6' '9.0' '1.7' '6.7' '8.0' '9.2' '5.2' '4.7' '6.2' '3.4' '9.7' '3.3'\n",
      " '4.8' '1.6' '1-5' '7.8' '4.4' '6.9' '9.8' '3 1']\n"
     ]
    }
   ],
   "source": [
    "# Remove all of the values found in the ratings column that are not numbers. \n",
    "letters = ['C', 'B-', 'B', 'A-', 'F', 'D+', 'B+', 'C-', 'C+', 'D', 'D-', 'A', 'A+', 'N', 'R', 'F+',\n",
    "          'F-', 'T']\n",
    "\n",
    "rt_df2 = rt_df2[~rt_df2['rating'].isin(letters)]\n",
    "\n",
    "rt_df2.head()\n",
    "\n",
    "print(rt_df2['rating'].unique())"
   ]
  },
  {
   "cell_type": "code",
   "execution_count": 34,
   "metadata": {},
   "outputs": [
    {
     "data": {
      "text/html": [
       "<div>\n",
       "<style scoped>\n",
       "    .dataframe tbody tr th:only-of-type {\n",
       "        vertical-align: middle;\n",
       "    }\n",
       "\n",
       "    .dataframe tbody tr th {\n",
       "        vertical-align: top;\n",
       "    }\n",
       "\n",
       "    .dataframe thead th {\n",
       "        text-align: right;\n",
       "    }\n",
       "</style>\n",
       "<table border=\"1\" class=\"dataframe\">\n",
       "  <thead>\n",
       "    <tr style=\"text-align: right;\">\n",
       "      <th></th>\n",
       "      <th>id</th>\n",
       "      <th>rating</th>\n",
       "      <th>fresh</th>\n",
       "      <th>critic</th>\n",
       "      <th>top_critic</th>\n",
       "      <th>publisher</th>\n",
       "      <th>date</th>\n",
       "    </tr>\n",
       "  </thead>\n",
       "  <tbody>\n",
       "    <tr>\n",
       "      <th>0</th>\n",
       "      <td>3</td>\n",
       "      <td>3.0</td>\n",
       "      <td>fresh</td>\n",
       "      <td>PJ Nabarro</td>\n",
       "      <td>0</td>\n",
       "      <td>Patrick Nabarro</td>\n",
       "      <td>November 10, 2018</td>\n",
       "    </tr>\n",
       "    <tr>\n",
       "      <th>7</th>\n",
       "      <td>3</td>\n",
       "      <td>2.0</td>\n",
       "      <td>rotten</td>\n",
       "      <td>Matt Kelemen</td>\n",
       "      <td>0</td>\n",
       "      <td>Las Vegas CityLife</td>\n",
       "      <td>April 21, 2013</td>\n",
       "    </tr>\n",
       "    <tr>\n",
       "      <th>12</th>\n",
       "      <td>3</td>\n",
       "      <td>2.0</td>\n",
       "      <td>rotten</td>\n",
       "      <td>Christian Toto</td>\n",
       "      <td>0</td>\n",
       "      <td>Big Hollywood</td>\n",
       "      <td>January 15, 2013</td>\n",
       "    </tr>\n",
       "    <tr>\n",
       "      <th>14</th>\n",
       "      <td>3</td>\n",
       "      <td>3.0</td>\n",
       "      <td>fresh</td>\n",
       "      <td>Marty Mapes</td>\n",
       "      <td>0</td>\n",
       "      <td>Movie Habit</td>\n",
       "      <td>October 20, 2012</td>\n",
       "    </tr>\n",
       "    <tr>\n",
       "      <th>15</th>\n",
       "      <td>3</td>\n",
       "      <td>3.0</td>\n",
       "      <td>fresh</td>\n",
       "      <td>Adam Ross</td>\n",
       "      <td>0</td>\n",
       "      <td>The Aristocrat</td>\n",
       "      <td>September 27, 2012</td>\n",
       "    </tr>\n",
       "  </tbody>\n",
       "</table>\n",
       "</div>"
      ],
      "text/plain": [
       "    id  rating   fresh          critic  top_critic           publisher  \\\n",
       "0    3     3.0   fresh      PJ Nabarro           0     Patrick Nabarro   \n",
       "7    3     2.0  rotten    Matt Kelemen           0  Las Vegas CityLife   \n",
       "12   3     2.0  rotten  Christian Toto           0       Big Hollywood   \n",
       "14   3     3.0   fresh     Marty Mapes           0         Movie Habit   \n",
       "15   3     3.0   fresh       Adam Ross           0      The Aristocrat   \n",
       "\n",
       "                  date  \n",
       "0    November 10, 2018  \n",
       "7       April 21, 2013  \n",
       "12    January 15, 2013  \n",
       "14    October 20, 2012  \n",
       "15  September 27, 2012  "
      ]
     },
     "execution_count": 34,
     "metadata": {},
     "output_type": "execute_result"
    }
   ],
   "source": [
    "# Convert ratings to float from str.  \n",
    "rt_df2['rating'] = pd.to_numeric(rt_df2['rating'],errors='coerce')\n",
    "\n",
    "rt_df2.head()"
   ]
  },
  {
   "cell_type": "code",
   "execution_count": 35,
   "metadata": {},
   "outputs": [
    {
     "name": "stdout",
     "output_type": "stream",
     "text": [
      "34447\n"
     ]
    }
   ],
   "source": [
    "print(len(rt_df2)) #34447"
   ]
  },
  {
   "cell_type": "code",
   "execution_count": 36,
   "metadata": {},
   "outputs": [
    {
     "data": {
      "text/html": [
       "<div>\n",
       "<style scoped>\n",
       "    .dataframe tbody tr th:only-of-type {\n",
       "        vertical-align: middle;\n",
       "    }\n",
       "\n",
       "    .dataframe tbody tr th {\n",
       "        vertical-align: top;\n",
       "    }\n",
       "\n",
       "    .dataframe thead th {\n",
       "        text-align: right;\n",
       "    }\n",
       "</style>\n",
       "<table border=\"1\" class=\"dataframe\">\n",
       "  <thead>\n",
       "    <tr style=\"text-align: right;\">\n",
       "      <th></th>\n",
       "      <th>id</th>\n",
       "      <th>mean_rating</th>\n",
       "    </tr>\n",
       "  </thead>\n",
       "  <tbody>\n",
       "    <tr>\n",
       "      <th>0</th>\n",
       "      <td>3</td>\n",
       "      <td>3.303191</td>\n",
       "    </tr>\n",
       "    <tr>\n",
       "      <th>1</th>\n",
       "      <td>5</td>\n",
       "      <td>3.500000</td>\n",
       "    </tr>\n",
       "    <tr>\n",
       "      <th>2</th>\n",
       "      <td>6</td>\n",
       "      <td>2.987179</td>\n",
       "    </tr>\n",
       "    <tr>\n",
       "      <th>3</th>\n",
       "      <td>8</td>\n",
       "      <td>4.055556</td>\n",
       "    </tr>\n",
       "    <tr>\n",
       "      <th>4</th>\n",
       "      <td>10</td>\n",
       "      <td>2.722222</td>\n",
       "    </tr>\n",
       "  </tbody>\n",
       "</table>\n",
       "</div>"
      ],
      "text/plain": [
       "   id  mean_rating\n",
       "0   3     3.303191\n",
       "1   5     3.500000\n",
       "2   6     2.987179\n",
       "3   8     4.055556\n",
       "4  10     2.722222"
      ]
     },
     "execution_count": 36,
     "metadata": {},
     "output_type": "execute_result"
    }
   ],
   "source": [
    "rt_df3 = rt_df2.groupby('id', as_index=False)['rating'].mean()\n",
    "rt_df3 = rt_df3.rename(columns={'rating': 'mean_rating'})\n",
    "\n",
    "rt_df3.head()"
   ]
  },
  {
   "cell_type": "markdown",
   "metadata": {},
   "source": [
    "This dataframe I created gives only the ID of the movie and the mean rating of that movie. It can be combined later with rt_df1 to give a dataframe that contains all the movies in the rt data and their respective ratings.  "
   ]
  },
  {
   "cell_type": "code",
   "execution_count": 37,
   "metadata": {},
   "outputs": [
    {
     "name": "stdout",
     "output_type": "stream",
     "text": [
      "1077\n"
     ]
    }
   ],
   "source": [
    "print(len(rt_df3)) #1077"
   ]
  },
  {
   "cell_type": "markdown",
   "metadata": {},
   "source": [
    "## With the data available, I will seek to answer the following 4 questions:\n",
    "\n",
    "1.  Does the size of the movie budget impact ratings awarded to the movie and do ratings have a relationship to the domestic gross income of a movie? \n",
    "2.  Does the size of the movie budget impact the domestic gross income of a movie?\n",
    "3.  Does choice of director for the movie appear to impact the domestic gross income of a movie? \n",
    "4.  Do ratings have a relationship with who directs the movie?  "
   ]
  },
  {
   "cell_type": "markdown",
   "metadata": {},
   "source": [
    "## Code and Visualizations pertinent to answering Question 1 \n",
    "\n",
    "Does the size of the movie budget impact ratings awarded to the movie and do ratings have a relationship to the domestic gross income of a movie?"
   ]
  },
  {
   "cell_type": "code",
   "execution_count": 38,
   "metadata": {
    "scrolled": true
   },
   "outputs": [
    {
     "data": {
      "text/html": [
       "<div>\n",
       "<style scoped>\n",
       "    .dataframe tbody tr th:only-of-type {\n",
       "        vertical-align: middle;\n",
       "    }\n",
       "\n",
       "    .dataframe tbody tr th {\n",
       "        vertical-align: top;\n",
       "    }\n",
       "\n",
       "    .dataframe thead th {\n",
       "        text-align: right;\n",
       "    }\n",
       "</style>\n",
       "<table border=\"1\" class=\"dataframe\">\n",
       "  <thead>\n",
       "    <tr style=\"text-align: right;\">\n",
       "      <th></th>\n",
       "      <th>tconst</th>\n",
       "      <th>primary_title</th>\n",
       "      <th>original_title</th>\n",
       "      <th>start_year</th>\n",
       "      <th>runtime_minutes</th>\n",
       "      <th>genres</th>\n",
       "      <th>averagerating</th>\n",
       "      <th>numvotes</th>\n",
       "    </tr>\n",
       "  </thead>\n",
       "  <tbody>\n",
       "    <tr>\n",
       "      <th>0</th>\n",
       "      <td>tt0063540</td>\n",
       "      <td>Sunghursh</td>\n",
       "      <td>Sunghursh</td>\n",
       "      <td>2013</td>\n",
       "      <td>175.0</td>\n",
       "      <td>Action,Crime,Drama</td>\n",
       "      <td>7.0</td>\n",
       "      <td>77</td>\n",
       "    </tr>\n",
       "    <tr>\n",
       "      <th>1</th>\n",
       "      <td>tt0066787</td>\n",
       "      <td>One Day Before the Rainy Season</td>\n",
       "      <td>Ashad Ka Ek Din</td>\n",
       "      <td>2019</td>\n",
       "      <td>114.0</td>\n",
       "      <td>Biography,Drama</td>\n",
       "      <td>7.2</td>\n",
       "      <td>43</td>\n",
       "    </tr>\n",
       "    <tr>\n",
       "      <th>2</th>\n",
       "      <td>tt0069049</td>\n",
       "      <td>The Other Side of the Wind</td>\n",
       "      <td>The Other Side of the Wind</td>\n",
       "      <td>2018</td>\n",
       "      <td>122.0</td>\n",
       "      <td>Drama</td>\n",
       "      <td>6.9</td>\n",
       "      <td>4517</td>\n",
       "    </tr>\n",
       "    <tr>\n",
       "      <th>3</th>\n",
       "      <td>tt0069204</td>\n",
       "      <td>Sabse Bada Sukh</td>\n",
       "      <td>Sabse Bada Sukh</td>\n",
       "      <td>2018</td>\n",
       "      <td>NaN</td>\n",
       "      <td>Comedy,Drama</td>\n",
       "      <td>6.1</td>\n",
       "      <td>13</td>\n",
       "    </tr>\n",
       "    <tr>\n",
       "      <th>4</th>\n",
       "      <td>tt0100275</td>\n",
       "      <td>The Wandering Soap Opera</td>\n",
       "      <td>La Telenovela Errante</td>\n",
       "      <td>2017</td>\n",
       "      <td>80.0</td>\n",
       "      <td>Comedy,Drama,Fantasy</td>\n",
       "      <td>6.5</td>\n",
       "      <td>119</td>\n",
       "    </tr>\n",
       "  </tbody>\n",
       "</table>\n",
       "</div>"
      ],
      "text/plain": [
       "      tconst                    primary_title              original_title  \\\n",
       "0  tt0063540                        Sunghursh                   Sunghursh   \n",
       "1  tt0066787  One Day Before the Rainy Season             Ashad Ka Ek Din   \n",
       "2  tt0069049       The Other Side of the Wind  The Other Side of the Wind   \n",
       "3  tt0069204                  Sabse Bada Sukh             Sabse Bada Sukh   \n",
       "4  tt0100275         The Wandering Soap Opera       La Telenovela Errante   \n",
       "\n",
       "   start_year  runtime_minutes                genres  averagerating  numvotes  \n",
       "0        2013            175.0    Action,Crime,Drama            7.0        77  \n",
       "1        2019            114.0       Biography,Drama            7.2        43  \n",
       "2        2018            122.0                 Drama            6.9      4517  \n",
       "3        2018              NaN          Comedy,Drama            6.1        13  \n",
       "4        2017             80.0  Comedy,Drama,Fantasy            6.5       119  "
      ]
     },
     "execution_count": 38,
     "metadata": {},
     "output_type": "execute_result"
    }
   ],
   "source": [
    "imdb_data = pd.merge(imdb_df3, imdb_df6, how = 'inner', left_on ='tconst', right_on ='tconst')\n",
    "\n",
    "imdb_data['averagerating'] = pd.to_numeric(imdb_data['averagerating'],errors='coerce')\n",
    "\n",
    "imdb_data.head()"
   ]
  },
  {
   "cell_type": "code",
   "execution_count": 39,
   "metadata": {},
   "outputs": [
    {
     "name": "stdout",
     "output_type": "stream",
     "text": [
      "<class 'pandas.core.frame.DataFrame'>\n",
      "Int64Index: 73856 entries, 0 to 73855\n",
      "Data columns (total 8 columns):\n",
      " #   Column           Non-Null Count  Dtype  \n",
      "---  ------           --------------  -----  \n",
      " 0   tconst           73856 non-null  object \n",
      " 1   primary_title    73856 non-null  object \n",
      " 2   original_title   73856 non-null  object \n",
      " 3   start_year       73856 non-null  int64  \n",
      " 4   runtime_minutes  66236 non-null  float64\n",
      " 5   genres           73052 non-null  object \n",
      " 6   averagerating    73856 non-null  float64\n",
      " 7   numvotes         73856 non-null  int64  \n",
      "dtypes: float64(2), int64(2), object(4)\n",
      "memory usage: 5.1+ MB\n"
     ]
    }
   ],
   "source": [
    "imdb_data.info()"
   ]
  },
  {
   "cell_type": "code",
   "execution_count": 40,
   "metadata": {},
   "outputs": [
    {
     "data": {
      "text/html": [
       "<div>\n",
       "<style scoped>\n",
       "    .dataframe tbody tr th:only-of-type {\n",
       "        vertical-align: middle;\n",
       "    }\n",
       "\n",
       "    .dataframe tbody tr th {\n",
       "        vertical-align: top;\n",
       "    }\n",
       "\n",
       "    .dataframe thead th {\n",
       "        text-align: right;\n",
       "    }\n",
       "</style>\n",
       "<table border=\"1\" class=\"dataframe\">\n",
       "  <thead>\n",
       "    <tr style=\"text-align: right;\">\n",
       "      <th></th>\n",
       "      <th>start_year</th>\n",
       "      <th>runtime_minutes</th>\n",
       "      <th>averagerating</th>\n",
       "      <th>numvotes</th>\n",
       "    </tr>\n",
       "  </thead>\n",
       "  <tbody>\n",
       "    <tr>\n",
       "      <th>count</th>\n",
       "      <td>73856.000000</td>\n",
       "      <td>66236.000000</td>\n",
       "      <td>73856.000000</td>\n",
       "      <td>7.385600e+04</td>\n",
       "    </tr>\n",
       "    <tr>\n",
       "      <th>mean</th>\n",
       "      <td>2014.276132</td>\n",
       "      <td>94.654040</td>\n",
       "      <td>6.332729</td>\n",
       "      <td>3.523662e+03</td>\n",
       "    </tr>\n",
       "    <tr>\n",
       "      <th>std</th>\n",
       "      <td>2.614807</td>\n",
       "      <td>208.574111</td>\n",
       "      <td>1.474978</td>\n",
       "      <td>3.029402e+04</td>\n",
       "    </tr>\n",
       "    <tr>\n",
       "      <th>min</th>\n",
       "      <td>2010.000000</td>\n",
       "      <td>3.000000</td>\n",
       "      <td>1.000000</td>\n",
       "      <td>5.000000e+00</td>\n",
       "    </tr>\n",
       "    <tr>\n",
       "      <th>25%</th>\n",
       "      <td>2012.000000</td>\n",
       "      <td>81.000000</td>\n",
       "      <td>5.500000</td>\n",
       "      <td>1.400000e+01</td>\n",
       "    </tr>\n",
       "    <tr>\n",
       "      <th>50%</th>\n",
       "      <td>2014.000000</td>\n",
       "      <td>91.000000</td>\n",
       "      <td>6.500000</td>\n",
       "      <td>4.900000e+01</td>\n",
       "    </tr>\n",
       "    <tr>\n",
       "      <th>75%</th>\n",
       "      <td>2016.000000</td>\n",
       "      <td>104.000000</td>\n",
       "      <td>7.400000</td>\n",
       "      <td>2.820000e+02</td>\n",
       "    </tr>\n",
       "    <tr>\n",
       "      <th>max</th>\n",
       "      <td>2019.000000</td>\n",
       "      <td>51420.000000</td>\n",
       "      <td>10.000000</td>\n",
       "      <td>1.841066e+06</td>\n",
       "    </tr>\n",
       "  </tbody>\n",
       "</table>\n",
       "</div>"
      ],
      "text/plain": [
       "         start_year  runtime_minutes  averagerating      numvotes\n",
       "count  73856.000000     66236.000000   73856.000000  7.385600e+04\n",
       "mean    2014.276132        94.654040       6.332729  3.523662e+03\n",
       "std        2.614807       208.574111       1.474978  3.029402e+04\n",
       "min     2010.000000         3.000000       1.000000  5.000000e+00\n",
       "25%     2012.000000        81.000000       5.500000  1.400000e+01\n",
       "50%     2014.000000        91.000000       6.500000  4.900000e+01\n",
       "75%     2016.000000       104.000000       7.400000  2.820000e+02\n",
       "max     2019.000000     51420.000000      10.000000  1.841066e+06"
      ]
     },
     "execution_count": 40,
     "metadata": {},
     "output_type": "execute_result"
    }
   ],
   "source": [
    "imdb_data.describe()"
   ]
  },
  {
   "cell_type": "markdown",
   "metadata": {},
   "source": [
    "I created this dataframe that combines the movie titles with their ratings for IMDb data.  This combindation dataframe can be used for both questions 1 and 4.  Inner join provides for only those movies that appear in both tables as I want a dataframe of only movies that have ratings associated with them.  The only column with null values is runtime_minutes which I do not plan to use in this analysis.  "
   ]
  },
  {
   "cell_type": "code",
   "execution_count": 41,
   "metadata": {},
   "outputs": [
    {
     "name": "stdout",
     "output_type": "stream",
     "text": [
      "73856\n"
     ]
    }
   ],
   "source": [
    "print(len(imdb_data)) # 73856\n",
    " "
   ]
  },
  {
   "cell_type": "markdown",
   "metadata": {},
   "source": [
    "The length of this dataframe is less than df3 and the same as df6 since this will only include movies that have a rating score on IMDb.  This dataframe can be used to answer the question pertaining to budget effect on ratings. "
   ]
  },
  {
   "cell_type": "code",
   "execution_count": 42,
   "metadata": {},
   "outputs": [
    {
     "data": {
      "text/plain": [
       "0"
      ]
     },
     "execution_count": 42,
     "metadata": {},
     "output_type": "execute_result"
    }
   ],
   "source": [
    "# Verifying no NaN values in the average rating column\n",
    "imdb_data['averagerating'].isna().sum() "
   ]
  },
  {
   "cell_type": "code",
   "execution_count": 43,
   "metadata": {},
   "outputs": [
    {
     "name": "stdout",
     "output_type": "stream",
     "text": [
      "[ 7.   7.2  6.9  6.1  6.5  4.1  8.1  6.8  4.6  7.6  7.5  7.8  4.   8.8\n",
      "  1.9  6.7  6.6  5.9  7.1  7.4  3.9  5.5  5.1  7.9  6.2  6.3  5.   6.\n",
      "  5.6  7.3  4.9  6.4  3.3  5.7  8.6  4.8  4.5  4.2  8.7  4.7  5.2  8.3\n",
      "  9.1  3.4  5.8  5.4  8.5  3.2  3.6  8.   3.8  7.7  4.3  3.   5.3  3.7\n",
      "  3.5  9.3  8.9  9.   2.3  8.2  2.7  2.8  1.7  4.4  2.2  9.4  8.4  9.2\n",
      "  9.7  3.1 10.   9.8  2.6  2.5  1.4  2.1  2.4  2.9  1.8  1.6  2.   1.\n",
      "  1.2  1.5  1.3  1.1  9.5  9.6  9.9]\n"
     ]
    }
   ],
   "source": [
    "# Verifying no odd characters or data is in the average rating column \n",
    "print(imdb_data['averagerating'].unique())\n",
    "\n",
    "# None found."
   ]
  },
  {
   "cell_type": "markdown",
   "metadata": {},
   "source": [
    "## This section of code addresses the first part of Question 1:  \n",
    "\n",
    "Does the size of the movie budget impact ratings awarded to the movie"
   ]
  },
  {
   "cell_type": "markdown",
   "metadata": {},
   "source": [
    "To address the question of budget v. ratings, I created a dataframe that links imdb movie data to data found in the tn_df data, the only dataset that contains movie budget information. This merged dataframe will also contain some info pertaining to domestic revenue for the movies and can be used for answering the second part of this question.  Some movie titles are listed in duplicate, but appears have different release years. "
   ]
  },
  {
   "cell_type": "code",
   "execution_count": 44,
   "metadata": {},
   "outputs": [
    {
     "data": {
      "text/html": [
       "<div>\n",
       "<style scoped>\n",
       "    .dataframe tbody tr th:only-of-type {\n",
       "        vertical-align: middle;\n",
       "    }\n",
       "\n",
       "    .dataframe tbody tr th {\n",
       "        vertical-align: top;\n",
       "    }\n",
       "\n",
       "    .dataframe thead th {\n",
       "        text-align: right;\n",
       "    }\n",
       "</style>\n",
       "<table border=\"1\" class=\"dataframe\">\n",
       "  <thead>\n",
       "    <tr style=\"text-align: right;\">\n",
       "      <th></th>\n",
       "      <th>tconst</th>\n",
       "      <th>primary_title</th>\n",
       "      <th>original_title</th>\n",
       "      <th>start_year</th>\n",
       "      <th>averagerating</th>\n",
       "      <th>numvotes</th>\n",
       "      <th>id</th>\n",
       "      <th>production_budget</th>\n",
       "      <th>domestic_gross</th>\n",
       "    </tr>\n",
       "  </thead>\n",
       "  <tbody>\n",
       "    <tr>\n",
       "      <th>0</th>\n",
       "      <td>tt0249516</td>\n",
       "      <td>Foodfight!</td>\n",
       "      <td>Foodfight!</td>\n",
       "      <td>2012</td>\n",
       "      <td>1.9</td>\n",
       "      <td>8248</td>\n",
       "      <td>26</td>\n",
       "      <td>45000000</td>\n",
       "      <td>0</td>\n",
       "    </tr>\n",
       "    <tr>\n",
       "      <th>1</th>\n",
       "      <td>tt0326592</td>\n",
       "      <td>The Overnight</td>\n",
       "      <td>The Overnight</td>\n",
       "      <td>2010</td>\n",
       "      <td>7.5</td>\n",
       "      <td>24</td>\n",
       "      <td>21</td>\n",
       "      <td>200000</td>\n",
       "      <td>1109808</td>\n",
       "    </tr>\n",
       "    <tr>\n",
       "      <th>2</th>\n",
       "      <td>tt3844362</td>\n",
       "      <td>The Overnight</td>\n",
       "      <td>The Overnight</td>\n",
       "      <td>2015</td>\n",
       "      <td>6.1</td>\n",
       "      <td>14828</td>\n",
       "      <td>21</td>\n",
       "      <td>200000</td>\n",
       "      <td>1109808</td>\n",
       "    </tr>\n",
       "    <tr>\n",
       "      <th>3</th>\n",
       "      <td>tt0337692</td>\n",
       "      <td>On the Road</td>\n",
       "      <td>On the Road</td>\n",
       "      <td>2012</td>\n",
       "      <td>6.1</td>\n",
       "      <td>37886</td>\n",
       "      <td>17</td>\n",
       "      <td>25000000</td>\n",
       "      <td>720828</td>\n",
       "    </tr>\n",
       "    <tr>\n",
       "      <th>4</th>\n",
       "      <td>tt4339118</td>\n",
       "      <td>On the Road</td>\n",
       "      <td>On the Road</td>\n",
       "      <td>2014</td>\n",
       "      <td>6.0</td>\n",
       "      <td>6</td>\n",
       "      <td>17</td>\n",
       "      <td>25000000</td>\n",
       "      <td>720828</td>\n",
       "    </tr>\n",
       "  </tbody>\n",
       "</table>\n",
       "</div>"
      ],
      "text/plain": [
       "      tconst  primary_title original_title  start_year  averagerating  \\\n",
       "0  tt0249516     Foodfight!     Foodfight!        2012            1.9   \n",
       "1  tt0326592  The Overnight  The Overnight        2010            7.5   \n",
       "2  tt3844362  The Overnight  The Overnight        2015            6.1   \n",
       "3  tt0337692    On the Road    On the Road        2012            6.1   \n",
       "4  tt4339118    On the Road    On the Road        2014            6.0   \n",
       "\n",
       "   numvotes  id  production_budget  domestic_gross  \n",
       "0      8248  26           45000000               0  \n",
       "1        24  21             200000         1109808  \n",
       "2     14828  21             200000         1109808  \n",
       "3     37886  17           25000000          720828  \n",
       "4         6  17           25000000          720828  "
      ]
     },
     "execution_count": 44,
     "metadata": {},
     "output_type": "execute_result"
    }
   ],
   "source": [
    "imdb_tn_merge = pd.merge(imdb_data, tn_df, how = 'inner', left_on ='primary_title', right_on ='movie')\n",
    "\n",
    "# Dropping some columns that won't pertain to this analysis for readability\n",
    "imdb_tn_merge.drop(['runtime_minutes', 'release_date', 'movie', 'genres', 'worldwide_gross'], axis=1, inplace=True)\n",
    "\n",
    "imdb_tn_merge.head()"
   ]
  },
  {
   "cell_type": "code",
   "execution_count": 45,
   "metadata": {},
   "outputs": [
    {
     "name": "stdout",
     "output_type": "stream",
     "text": [
      "<class 'pandas.core.frame.DataFrame'>\n",
      "Int64Index: 2875 entries, 0 to 2874\n",
      "Data columns (total 9 columns):\n",
      " #   Column             Non-Null Count  Dtype  \n",
      "---  ------             --------------  -----  \n",
      " 0   tconst             2875 non-null   object \n",
      " 1   primary_title      2875 non-null   object \n",
      " 2   original_title     2875 non-null   object \n",
      " 3   start_year         2875 non-null   int64  \n",
      " 4   averagerating      2875 non-null   float64\n",
      " 5   numvotes           2875 non-null   int64  \n",
      " 6   id                 2875 non-null   int64  \n",
      " 7   production_budget  2875 non-null   int64  \n",
      " 8   domestic_gross     2875 non-null   int64  \n",
      "dtypes: float64(1), int64(5), object(3)\n",
      "memory usage: 224.6+ KB\n"
     ]
    }
   ],
   "source": [
    "imdb_tn_merge.info()"
   ]
  },
  {
   "cell_type": "markdown",
   "metadata": {},
   "source": [
    "The dataframe does not contain any NaN values."
   ]
  },
  {
   "cell_type": "code",
   "execution_count": 46,
   "metadata": {},
   "outputs": [
    {
     "data": {
      "text/html": [
       "<div>\n",
       "<style scoped>\n",
       "    .dataframe tbody tr th:only-of-type {\n",
       "        vertical-align: middle;\n",
       "    }\n",
       "\n",
       "    .dataframe tbody tr th {\n",
       "        vertical-align: top;\n",
       "    }\n",
       "\n",
       "    .dataframe thead th {\n",
       "        text-align: right;\n",
       "    }\n",
       "</style>\n",
       "<table border=\"1\" class=\"dataframe\">\n",
       "  <thead>\n",
       "    <tr style=\"text-align: right;\">\n",
       "      <th></th>\n",
       "      <th>start_year</th>\n",
       "      <th>averagerating</th>\n",
       "      <th>numvotes</th>\n",
       "      <th>id</th>\n",
       "      <th>production_budget</th>\n",
       "      <th>domestic_gross</th>\n",
       "    </tr>\n",
       "  </thead>\n",
       "  <tbody>\n",
       "    <tr>\n",
       "      <th>count</th>\n",
       "      <td>2875.000000</td>\n",
       "      <td>2875.000000</td>\n",
       "      <td>2.875000e+03</td>\n",
       "      <td>2875.00000</td>\n",
       "      <td>2.875000e+03</td>\n",
       "      <td>2.875000e+03</td>\n",
       "    </tr>\n",
       "    <tr>\n",
       "      <th>mean</th>\n",
       "      <td>2013.916522</td>\n",
       "      <td>6.249217</td>\n",
       "      <td>6.628038e+04</td>\n",
       "      <td>50.94087</td>\n",
       "      <td>3.436427e+07</td>\n",
       "      <td>4.302909e+07</td>\n",
       "    </tr>\n",
       "    <tr>\n",
       "      <th>std</th>\n",
       "      <td>2.550258</td>\n",
       "      <td>1.185992</td>\n",
       "      <td>1.343077e+05</td>\n",
       "      <td>28.69815</td>\n",
       "      <td>4.774360e+07</td>\n",
       "      <td>7.452513e+07</td>\n",
       "    </tr>\n",
       "    <tr>\n",
       "      <th>min</th>\n",
       "      <td>2010.000000</td>\n",
       "      <td>1.600000</td>\n",
       "      <td>5.000000e+00</td>\n",
       "      <td>1.00000</td>\n",
       "      <td>1.400000e+03</td>\n",
       "      <td>0.000000e+00</td>\n",
       "    </tr>\n",
       "    <tr>\n",
       "      <th>25%</th>\n",
       "      <td>2012.000000</td>\n",
       "      <td>5.600000</td>\n",
       "      <td>1.410000e+02</td>\n",
       "      <td>27.00000</td>\n",
       "      <td>5.000000e+06</td>\n",
       "      <td>5.017520e+05</td>\n",
       "    </tr>\n",
       "    <tr>\n",
       "      <th>50%</th>\n",
       "      <td>2014.000000</td>\n",
       "      <td>6.400000</td>\n",
       "      <td>7.951000e+03</td>\n",
       "      <td>51.00000</td>\n",
       "      <td>1.700000e+07</td>\n",
       "      <td>1.652141e+07</td>\n",
       "    </tr>\n",
       "    <tr>\n",
       "      <th>75%</th>\n",
       "      <td>2016.000000</td>\n",
       "      <td>7.100000</td>\n",
       "      <td>7.508100e+04</td>\n",
       "      <td>76.00000</td>\n",
       "      <td>4.000000e+07</td>\n",
       "      <td>5.186291e+07</td>\n",
       "    </tr>\n",
       "    <tr>\n",
       "      <th>max</th>\n",
       "      <td>2019.000000</td>\n",
       "      <td>9.300000</td>\n",
       "      <td>1.841066e+06</td>\n",
       "      <td>100.00000</td>\n",
       "      <td>4.250000e+08</td>\n",
       "      <td>7.605076e+08</td>\n",
       "    </tr>\n",
       "  </tbody>\n",
       "</table>\n",
       "</div>"
      ],
      "text/plain": [
       "        start_year  averagerating      numvotes          id  \\\n",
       "count  2875.000000    2875.000000  2.875000e+03  2875.00000   \n",
       "mean   2013.916522       6.249217  6.628038e+04    50.94087   \n",
       "std       2.550258       1.185992  1.343077e+05    28.69815   \n",
       "min    2010.000000       1.600000  5.000000e+00     1.00000   \n",
       "25%    2012.000000       5.600000  1.410000e+02    27.00000   \n",
       "50%    2014.000000       6.400000  7.951000e+03    51.00000   \n",
       "75%    2016.000000       7.100000  7.508100e+04    76.00000   \n",
       "max    2019.000000       9.300000  1.841066e+06   100.00000   \n",
       "\n",
       "       production_budget  domestic_gross  \n",
       "count       2.875000e+03    2.875000e+03  \n",
       "mean        3.436427e+07    4.302909e+07  \n",
       "std         4.774360e+07    7.452513e+07  \n",
       "min         1.400000e+03    0.000000e+00  \n",
       "25%         5.000000e+06    5.017520e+05  \n",
       "50%         1.700000e+07    1.652141e+07  \n",
       "75%         4.000000e+07    5.186291e+07  \n",
       "max         4.250000e+08    7.605076e+08  "
      ]
     },
     "execution_count": 46,
     "metadata": {},
     "output_type": "execute_result"
    }
   ],
   "source": [
    "imdb_tn_merge.describe()"
   ]
  },
  {
   "cell_type": "markdown",
   "metadata": {},
   "source": [
    "The mean average rating is around 6.2 while the mean production budget is around 30 million dollars. "
   ]
  },
  {
   "cell_type": "code",
   "execution_count": 47,
   "metadata": {},
   "outputs": [
    {
     "name": "stdout",
     "output_type": "stream",
     "text": [
      "2875\n"
     ]
    }
   ],
   "source": [
    "print(len(imdb_tn_merge)) # 2875"
   ]
  },
  {
   "cell_type": "code",
   "execution_count": 48,
   "metadata": {},
   "outputs": [
    {
     "data": {
      "text/plain": [
       "['#05712f', '#2c9553', '#51b689', '#84cfb9', '#bde6de', '#e2f4f7']"
      ]
     },
     "execution_count": 48,
     "metadata": {},
     "output_type": "execute_result"
    }
   ],
   "source": [
    "# code to access the hex codes for my seaborn color pallette\n",
    "pal = sns.color_palette('BuGn_r')\n",
    "pal.as_hex()"
   ]
  },
  {
   "cell_type": "code",
   "execution_count": 49,
   "metadata": {},
   "outputs": [],
   "source": [
    "# setting my default seaborn pallette\n",
    "sns.set_palette('BuGn_r')\n",
    "sns.set_style('whitegrid')"
   ]
  },
  {
   "cell_type": "code",
   "execution_count": 50,
   "metadata": {},
   "outputs": [],
   "source": [
    "def histogram_subplots(data1, data2, xlabel1, xlabel2, ylabel1, ylabel2, title1, title2, \n",
    "                             bins1 = 'auto', bins2 = 'auto'):\n",
    "    \n",
    "    \"\"\" \n",
    "    Function for generating 2 histogram subplots of the distribution of Ratings and Budget data.\n",
    "  \n",
    "    This function will take in the arguments of data1, data2, xlabel1, xlabel2, ylabel1, ylabel2, title1, title2, \n",
    "                             bins1 = 'auto', bins2 = 'auto' in order to generate boxplots for data pertaining to \n",
    "                             the ratings and budget data.  \n",
    "  \n",
    "    Parameters: \n",
    "    data1 (df): the name and column of the dataframe that contains the first histogram data; format: df['column'].\n",
    "    data2 (df): the name and column of the dataframe that contains the second histogram data; format: df['column'].\n",
    "    xlabel1 (str):  the label to be given to the x-axis of the first subplot\n",
    "    xlabel2 (str):  the label to be given to the x-axis of the second subplot\n",
    "    ylabel1 (str):  the label to be given to the y-axis of the first subplot\n",
    "    ylabel2 (str):  the label to be given to the y-axis of the second subplot\n",
    "    title1 (str):   the title to be given to the first subplot\n",
    "    title2 (str):   the title to be given to the second subplot\n",
    "    bins1 (int):    the number of bins the first histogram will place the data in.  Defaults to 'auto' \n",
    "                    integer argument can be added to customize\n",
    "    bins2 (int):    the number of bins the first histogram will place the data in.  Defaults to 'auto' \n",
    "                    int argument can be added to customize\n",
    "  \n",
    "    Returns: \n",
    "    A subplot containing two formatted histograms showing the distribution of data in the desired columns side by side.  \n",
    "  \n",
    "    \"\"\"\n",
    "    \n",
    "    new_figure = plt.figure(figsize=(20,10))\n",
    "\n",
    "    ax = new_figure.add_subplot(1, 2, 1)\n",
    "    ax2 = new_figure.add_subplot(1, 2, 2)\n",
    "\n",
    "    ax.hist(data1, color='#bde6de', bins= bins1)\n",
    "    ax.set_title(title1)\n",
    "    ax.set_xlabel(xlabel1)\n",
    "    ax.set_ylabel(ylabel1)\n",
    "    ax.axvline(data1.mean(), color='#2c9553');\n",
    "\n",
    "    ax2.hist(data2, color='#bde6de', bins= bins2)\n",
    "    ax2.set_title(title2)\n",
    "    ax2.set_xlabel(xlabel2)\n",
    "    ax2.set_ylabel(ylabel2)\n",
    "    ax2.axvline(data2.mean(), color='#2c9553');\n",
    "\n",
    "    plt.show()"
   ]
  },
  {
   "cell_type": "code",
   "execution_count": 51,
   "metadata": {},
   "outputs": [],
   "source": [
    "def box_subplts(data, y1, y2, ylabel1, ylabel2, title1, title2):\n",
    "    \n",
    "    \"\"\" \n",
    "    Function for generating 2 boxplot subplots of the distribution of Ratings and Budget data.\n",
    "  \n",
    "    This function will take in the arguments of data, y1, y2, ylabel1, ylabel2, title1, and title 2 in order to \n",
    "    generate boxplots for data pertaining to the ratings and budget data.  \n",
    "  \n",
    "    Parameters: \n",
    "    data (df): the name of the dataframe that contains the data\n",
    "    y1 (str):  the name of the column that contains the data for the first subplot\n",
    "    y2 (str):  the name of the column that contains the data for the second subplot\n",
    "    ylabel1 (str):  the label to be given to the y-axis of the first subplot\n",
    "    ylabel2 (str):  the label to be given to the y-axis of the second subplot\n",
    "    title1 (str):  the title to be given to the first subplot\n",
    "    title2 (str):  the title to be given to the second subplot\n",
    "  \n",
    "    Returns: \n",
    "    A subplot containing two formatted boxplots showing the distribution of data in the desired columns side by side.  \n",
    "  \n",
    "    \"\"\"\n",
    "    \n",
    "    f, ax = plt.subplots(1, 2, figsize=(20,10))\n",
    "\n",
    "    sns.boxplot(y = y1, data = data,  color='#bde6de', \n",
    "            ax=ax[0]).set_title(title1)\n",
    "    ax[0].set(ylabel = ylabel1)\n",
    "\n",
    "    sns.boxplot(y = y2, data = data,  color='#bde6de', \n",
    "            ax=ax[1]).set_title(title2)\n",
    "    ax[1].set(ylabel = ylabel2)\n",
    "\n",
    "    plt.show()\n",
    "    "
   ]
  },
  {
   "cell_type": "code",
   "execution_count": 52,
   "metadata": {},
   "outputs": [],
   "source": [
    "def simple_regression(x, y, data, title, ylabel, xlabel):\n",
    "    \n",
    "    \"\"\" \n",
    "    Function for generating regression plot of the Ratings and Budget data.\n",
    "  \n",
    "    This function will take in the arguments of x, y, data, title, ylabel, xlabel in order to \n",
    "    generate a simple linear regression plot for data pertaining to the ratings and budget data.  \n",
    "  \n",
    "    Parameters: \n",
    "    x (str):       the name of the column containing the independent variable\n",
    "    y (str):       the name of the column containing the dependent variable \n",
    "    data (df):     the name of the dataframe that contains the data\n",
    "    title (str):   the title to be given to the plot\n",
    "    ylabel (str):  the label to be given to the y-axis of the plot\n",
    "    xlabel (str):  the label to be given to the x-axis of the plot\n",
    "    \n",
    "  \n",
    "    Returns: \n",
    "    A simple, formatted, linear regression plot for the desired data.\n",
    "  \n",
    "    \"\"\"\n",
    "    \n",
    "    sns.regplot(x= x, y= y, scatter_kws={'color':'#bde6de'}, \n",
    "            line_kws={'color':'#51b689'}, data= data, fit_reg=True)\n",
    "    sns.set_context('talk')\n",
    "\n",
    "    plt.title(title)\n",
    "    plt.ylabel(ylabel)\n",
    "    plt.xlabel(xlabel)\n",
    "\n",
    "    plt.show()"
   ]
  },
  {
   "cell_type": "code",
   "execution_count": 53,
   "metadata": {},
   "outputs": [
    {
     "data": {
      "image/png": "[encoded data removed]",
      "text/plain": [
       "<Figure size 1440x720 with 2 Axes>"
      ]
     },
     "metadata": {},
     "output_type": "display_data"
    }
   ],
   "source": [
    "histogram_subplots(imdb_tn_merge['averagerating'], imdb_tn_merge['production_budget'], 'Average Rating', 'Production Budget',\n",
    "                        'Number of Movies', 'Number of Movies', 'Distribution of Ratings', 'Distribution of Production Budget',\n",
    "                        5)"
   ]
  },
  {
   "cell_type": "markdown",
   "metadata": {},
   "source": [
    "Histograms showing the distribution of average ratings and production budget of the movies in this dataframe.  The average ratings seem fairly normally distributed; however, the production budget is heavily right skewed."
   ]
  },
  {
   "cell_type": "code",
   "execution_count": 54,
   "metadata": {},
   "outputs": [
    {
     "data": {
      "image/png": "[encoded data removed]",
      "text/plain": [
       "<Figure size 1440x720 with 2 Axes>"
      ]
     },
     "metadata": {},
     "output_type": "display_data"
    }
   ],
   "source": [
    "box_subplts(imdb_tn_merge, 'averagerating', 'production_budget', 'Average Rating', 'Production Budget', \n",
    "                           'Distribution of IMDB Average Ratings', 'Distribution of IMDB Production Budgets' )"
   ]
  },
  {
   "cell_type": "markdown",
   "metadata": {},
   "source": [
    "Boxplot of distribution of ratings and production budget. Using this visualization to see the distribution of the budget a bit more clearly.  Most budgets fall under a billion dollars; however a significant number of outliers exist exceeding a billion dollars in budget, including some as extreme as over $4 billion.  "
   ]
  },
  {
   "cell_type": "code",
   "execution_count": 55,
   "metadata": {},
   "outputs": [
    {
     "data": {
      "text/plain": [
       "id                   0.010373\n",
       "start_year           0.053334\n",
       "production_budget    0.130967\n",
       "domestic_gross       0.177163\n",
       "numvotes             0.311527\n",
       "averagerating        1.000000\n",
       "Name: averagerating, dtype: float64"
      ]
     },
     "execution_count": 55,
     "metadata": {},
     "output_type": "execute_result"
    }
   ],
   "source": [
    "imdb_tn_merge.corr()['averagerating'].sort_values()"
   ]
  },
  {
   "cell_type": "markdown",
   "metadata": {},
   "source": [
    "There does not appear to be a very strong correlation between the budget of the movie and the ratings it received in this dataframe.  "
   ]
  },
  {
   "cell_type": "code",
   "execution_count": 56,
   "metadata": {},
   "outputs": [
    {
     "data": {
      "image/png": "[encoded data removed]",
      "text/plain": [
       "<Figure size 432x288 with 1 Axes>"
      ]
     },
     "metadata": {},
     "output_type": "display_data"
    }
   ],
   "source": [
    "simple_regression('production_budget', 'averagerating', imdb_tn_merge, \n",
    "                          'IMDB Average Rating v. Production Budget', \n",
    "                          'Average Rating', 'Production Budget')"
   ]
  },
  {
   "cell_type": "markdown",
   "metadata": {},
   "source": [
    "This simple regression plot shows no real relationship between the IMDb average rating and the production budgets."
   ]
  },
  {
   "cell_type": "markdown",
   "metadata": {},
   "source": [
    "To determine if removing extreme outliers from the distribution of the production budget information would impact the analysis, I calculated z scores for the data and removed rows that contained data greater than 3 standard deviations from the mean.  "
   ]
  },
  {
   "cell_type": "code",
   "execution_count": 57,
   "metadata": {},
   "outputs": [
    {
     "name": "stdout",
     "output_type": "stream",
     "text": [
      "[0.22280642 0.71570241 0.71570241 ... 0.07616441 0.59419903 0.71936846]\n"
     ]
    }
   ],
   "source": [
    "z = np.abs(stats.zscore(imdb_tn_merge['production_budget'])) # calculate z-scores for desired column\n",
    "print(z)"
   ]
  },
  {
   "cell_type": "code",
   "execution_count": 58,
   "metadata": {},
   "outputs": [
    {
     "name": "stdout",
     "output_type": "stream",
     "text": [
      "(array([   8,   12,   13,   20,   70,  102,  115,  134,  136,  145,  147,\n",
      "        149,  151,  153,  160,  161,  163,  186,  188,  232,  279,  298,\n",
      "        329,  341,  346,  463,  464,  521,  524,  530,  586,  601,  604,\n",
      "        667,  681,  894,  953,  967,  984, 1054, 1279, 1298, 1349, 1427,\n",
      "       1450, 1457, 1567, 1722, 1836, 1884, 1916, 1949, 1975, 1999, 2057,\n",
      "       2133, 2190, 2236, 2296, 2344, 2345, 2348, 2381, 2383, 2422, 2457,\n",
      "       2461, 2469, 2533, 2538, 2620, 2647, 2778, 2816]),)\n",
      "74\n",
      "[8, 12, 13, 20, 70, 102, 115, 134, 136, 145, 147, 149, 151, 153, 160, 161, 163, 186, 188, 232, 279, 298, 329, 341, 346, 463, 464, 521, 524, 530, 586, 601, 604, 667, 681, 894, 953, 967, 984, 1054, 1279, 1298, 1349, 1427, 1450, 1457, 1567, 1722, 1836, 1884, 1916, 1949, 1975, 1999, 2057, 2133, 2190, 2236, 2296, 2344, 2345, 2348, 2381, 2383, 2422, 2457, 2461, 2469, 2533, 2538, 2620, 2647, 2778, 2816]\n"
     ]
    }
   ],
   "source": [
    "outliers = np.where(z > 3) # create an array showing the rows where the z-score is greater than 3\n",
    "print(outliers) # an array inside a tuple where each array item indicates a row that has a z-score > 3\n",
    "print(len(outliers[0])) # 74 rows in the array\n",
    "\n",
    "outliers = outliers[0].tolist() # want the array in a list instead of having an array inside a tuple.\n",
    "print(outliers)"
   ]
  },
  {
   "cell_type": "markdown",
   "metadata": {},
   "source": [
    "There are 74 rows in the dataset that have a production budget that exceeds 3 standard deviations.  This is a small amount of the total data, so I feel comfortable at least trying the analysis without those data.  "
   ]
  },
  {
   "cell_type": "markdown",
   "metadata": {},
   "source": [
    "Created a dataframe that has the extreme outliers in the production budget numbers trimmed out. "
   ]
  },
  {
   "cell_type": "code",
   "execution_count": 59,
   "metadata": {},
   "outputs": [
    {
     "data": {
      "text/html": [
       "<div>\n",
       "<style scoped>\n",
       "    .dataframe tbody tr th:only-of-type {\n",
       "        vertical-align: middle;\n",
       "    }\n",
       "\n",
       "    .dataframe tbody tr th {\n",
       "        vertical-align: top;\n",
       "    }\n",
       "\n",
       "    .dataframe thead th {\n",
       "        text-align: right;\n",
       "    }\n",
       "</style>\n",
       "<table border=\"1\" class=\"dataframe\">\n",
       "  <thead>\n",
       "    <tr style=\"text-align: right;\">\n",
       "      <th></th>\n",
       "      <th>tconst</th>\n",
       "      <th>primary_title</th>\n",
       "      <th>original_title</th>\n",
       "      <th>start_year</th>\n",
       "      <th>averagerating</th>\n",
       "      <th>numvotes</th>\n",
       "      <th>id</th>\n",
       "      <th>production_budget</th>\n",
       "      <th>domestic_gross</th>\n",
       "    </tr>\n",
       "  </thead>\n",
       "  <tbody>\n",
       "    <tr>\n",
       "      <th>0</th>\n",
       "      <td>tt0249516</td>\n",
       "      <td>Foodfight!</td>\n",
       "      <td>Foodfight!</td>\n",
       "      <td>2012</td>\n",
       "      <td>1.9</td>\n",
       "      <td>8248</td>\n",
       "      <td>26</td>\n",
       "      <td>45000000</td>\n",
       "      <td>0</td>\n",
       "    </tr>\n",
       "    <tr>\n",
       "      <th>1</th>\n",
       "      <td>tt0326592</td>\n",
       "      <td>The Overnight</td>\n",
       "      <td>The Overnight</td>\n",
       "      <td>2010</td>\n",
       "      <td>7.5</td>\n",
       "      <td>24</td>\n",
       "      <td>21</td>\n",
       "      <td>200000</td>\n",
       "      <td>1109808</td>\n",
       "    </tr>\n",
       "    <tr>\n",
       "      <th>2</th>\n",
       "      <td>tt3844362</td>\n",
       "      <td>The Overnight</td>\n",
       "      <td>The Overnight</td>\n",
       "      <td>2015</td>\n",
       "      <td>6.1</td>\n",
       "      <td>14828</td>\n",
       "      <td>21</td>\n",
       "      <td>200000</td>\n",
       "      <td>1109808</td>\n",
       "    </tr>\n",
       "    <tr>\n",
       "      <th>3</th>\n",
       "      <td>tt0337692</td>\n",
       "      <td>On the Road</td>\n",
       "      <td>On the Road</td>\n",
       "      <td>2012</td>\n",
       "      <td>6.1</td>\n",
       "      <td>37886</td>\n",
       "      <td>17</td>\n",
       "      <td>25000000</td>\n",
       "      <td>720828</td>\n",
       "    </tr>\n",
       "    <tr>\n",
       "      <th>4</th>\n",
       "      <td>tt4339118</td>\n",
       "      <td>On the Road</td>\n",
       "      <td>On the Road</td>\n",
       "      <td>2014</td>\n",
       "      <td>6.0</td>\n",
       "      <td>6</td>\n",
       "      <td>17</td>\n",
       "      <td>25000000</td>\n",
       "      <td>720828</td>\n",
       "    </tr>\n",
       "  </tbody>\n",
       "</table>\n",
       "</div>"
      ],
      "text/plain": [
       "      tconst  primary_title original_title  start_year  averagerating  \\\n",
       "0  tt0249516     Foodfight!     Foodfight!        2012            1.9   \n",
       "1  tt0326592  The Overnight  The Overnight        2010            7.5   \n",
       "2  tt3844362  The Overnight  The Overnight        2015            6.1   \n",
       "3  tt0337692    On the Road    On the Road        2012            6.1   \n",
       "4  tt4339118    On the Road    On the Road        2014            6.0   \n",
       "\n",
       "   numvotes  id  production_budget  domestic_gross  \n",
       "0      8248  26           45000000               0  \n",
       "1        24  21             200000         1109808  \n",
       "2     14828  21             200000         1109808  \n",
       "3     37886  17           25000000          720828  \n",
       "4         6  17           25000000          720828  "
      ]
     },
     "execution_count": 59,
     "metadata": {},
     "output_type": "execute_result"
    }
   ],
   "source": [
    "imdb_tn_trimmed = imdb_tn_merge.drop(outliers)\n",
    "\n",
    "imdb_tn_trimmed.head()"
   ]
  },
  {
   "cell_type": "code",
   "execution_count": 60,
   "metadata": {},
   "outputs": [
    {
     "name": "stdout",
     "output_type": "stream",
     "text": [
      "2801\n"
     ]
    }
   ],
   "source": [
    "print(len(imdb_tn_trimmed)) # 2801"
   ]
  },
  {
   "cell_type": "code",
   "execution_count": 61,
   "metadata": {},
   "outputs": [
    {
     "data": {
      "image/png": "[encoded data removed]",
      "text/plain": [
       "<Figure size 1440x720 with 2 Axes>"
      ]
     },
     "metadata": {},
     "output_type": "display_data"
    }
   ],
   "source": [
    "box_subplts(imdb_tn_trimmed, 'averagerating', 'production_budget', 'Average Rating', 'Production Budget', \n",
    "                           'Distribution of IMDB Average Ratings', 'Distribution of IMDB Production Budgets' )"
   ]
  },
  {
   "cell_type": "markdown",
   "metadata": {},
   "source": [
    "There are less extreme values in the Production Budget data distribution now; however, it still has a large spread.  "
   ]
  },
  {
   "cell_type": "code",
   "execution_count": 62,
   "metadata": {},
   "outputs": [
    {
     "data": {
      "text/plain": [
       "id                   0.012778\n",
       "start_year           0.052519\n",
       "production_budget    0.099035\n",
       "domestic_gross       0.152256\n",
       "numvotes             0.295331\n",
       "averagerating        1.000000\n",
       "Name: averagerating, dtype: float64"
      ]
     },
     "execution_count": 62,
     "metadata": {},
     "output_type": "execute_result"
    }
   ],
   "source": [
    "imdb_tn_trimmed.corr()['averagerating'].sort_values()"
   ]
  },
  {
   "cell_type": "markdown",
   "metadata": {},
   "source": [
    "The correlation between average ratings and production budget is even weaker with the extreme values trimmed."
   ]
  },
  {
   "cell_type": "code",
   "execution_count": 63,
   "metadata": {},
   "outputs": [
    {
     "data": {
      "image/png": "[encoded data removed]",
      "text/plain": [
       "<Figure size 432x288 with 1 Axes>"
      ]
     },
     "metadata": {},
     "output_type": "display_data"
    }
   ],
   "source": [
    "simple_regression('production_budget', 'averagerating', imdb_tn_trimmed, \n",
    "                          'IMDB Average Rating v. Production Budget', \n",
    "                          'Average Rating', 'Production Budget')"
   ]
  },
  {
   "cell_type": "markdown",
   "metadata": {},
   "source": [
    "The relationship between production budget and the rating a movie recieves from viewers is a very weak relationship.  "
   ]
  },
  {
   "cell_type": "markdown",
   "metadata": {},
   "source": [
    "Performed the same analysis on data from The Movie DB."
   ]
  },
  {
   "cell_type": "code",
   "execution_count": 64,
   "metadata": {},
   "outputs": [
    {
     "data": {
      "text/html": [
       "<div>\n",
       "<style scoped>\n",
       "    .dataframe tbody tr th:only-of-type {\n",
       "        vertical-align: middle;\n",
       "    }\n",
       "\n",
       "    .dataframe tbody tr th {\n",
       "        vertical-align: top;\n",
       "    }\n",
       "\n",
       "    .dataframe thead th {\n",
       "        text-align: right;\n",
       "    }\n",
       "</style>\n",
       "<table border=\"1\" class=\"dataframe\">\n",
       "  <thead>\n",
       "    <tr style=\"text-align: right;\">\n",
       "      <th></th>\n",
       "      <th>original_title</th>\n",
       "      <th>title</th>\n",
       "      <th>vote_average</th>\n",
       "    </tr>\n",
       "  </thead>\n",
       "  <tbody>\n",
       "    <tr>\n",
       "      <th>0</th>\n",
       "      <td>Harry Potter and the Deathly Hallows: Part 1</td>\n",
       "      <td>Harry Potter and the Deathly Hallows: Part 1</td>\n",
       "      <td>7.7</td>\n",
       "    </tr>\n",
       "    <tr>\n",
       "      <th>1</th>\n",
       "      <td>How to Train Your Dragon</td>\n",
       "      <td>How to Train Your Dragon</td>\n",
       "      <td>7.7</td>\n",
       "    </tr>\n",
       "    <tr>\n",
       "      <th>2</th>\n",
       "      <td>Iron Man 2</td>\n",
       "      <td>Iron Man 2</td>\n",
       "      <td>6.8</td>\n",
       "    </tr>\n",
       "    <tr>\n",
       "      <th>3</th>\n",
       "      <td>Toy Story</td>\n",
       "      <td>Toy Story</td>\n",
       "      <td>7.9</td>\n",
       "    </tr>\n",
       "    <tr>\n",
       "      <th>4</th>\n",
       "      <td>Inception</td>\n",
       "      <td>Inception</td>\n",
       "      <td>8.3</td>\n",
       "    </tr>\n",
       "  </tbody>\n",
       "</table>\n",
       "</div>"
      ],
      "text/plain": [
       "                                 original_title  \\\n",
       "0  Harry Potter and the Deathly Hallows: Part 1   \n",
       "1                      How to Train Your Dragon   \n",
       "2                                    Iron Man 2   \n",
       "3                                     Toy Story   \n",
       "4                                     Inception   \n",
       "\n",
       "                                          title  vote_average  \n",
       "0  Harry Potter and the Deathly Hallows: Part 1           7.7  \n",
       "1                      How to Train Your Dragon           7.7  \n",
       "2                                    Iron Man 2           6.8  \n",
       "3                                     Toy Story           7.9  \n",
       "4                                     Inception           8.3  "
      ]
     },
     "execution_count": 64,
     "metadata": {},
     "output_type": "execute_result"
    }
   ],
   "source": [
    "# dropping columns that won't be used in this analysis\n",
    "tmdb_df.drop(['genre_ids', 'id', 'original_language', 'popularity', 'release_date', 'vote_count'], \n",
    "             axis=1, inplace=True)\n",
    "\n",
    "tmdb_df.head()"
   ]
  },
  {
   "cell_type": "code",
   "execution_count": 65,
   "metadata": {},
   "outputs": [
    {
     "name": "stdout",
     "output_type": "stream",
     "text": [
      "26517\n"
     ]
    }
   ],
   "source": [
    "print(len(tmdb_df)) # 26517"
   ]
  },
  {
   "cell_type": "markdown",
   "metadata": {},
   "source": [
    "The below dataframe combines The Movie DB data with tn data to give only the movies in the move data base data that also have a budget information located in the tn_df."
   ]
  },
  {
   "cell_type": "code",
   "execution_count": 66,
   "metadata": {},
   "outputs": [
    {
     "data": {
      "text/html": [
       "<div>\n",
       "<style scoped>\n",
       "    .dataframe tbody tr th:only-of-type {\n",
       "        vertical-align: middle;\n",
       "    }\n",
       "\n",
       "    .dataframe tbody tr th {\n",
       "        vertical-align: top;\n",
       "    }\n",
       "\n",
       "    .dataframe thead th {\n",
       "        text-align: right;\n",
       "    }\n",
       "</style>\n",
       "<table border=\"1\" class=\"dataframe\">\n",
       "  <thead>\n",
       "    <tr style=\"text-align: right;\">\n",
       "      <th></th>\n",
       "      <th>original_title</th>\n",
       "      <th>title</th>\n",
       "      <th>vote_average</th>\n",
       "      <th>id</th>\n",
       "      <th>release_date</th>\n",
       "      <th>movie</th>\n",
       "      <th>production_budget</th>\n",
       "      <th>domestic_gross</th>\n",
       "      <th>worldwide_gross</th>\n",
       "    </tr>\n",
       "  </thead>\n",
       "  <tbody>\n",
       "    <tr>\n",
       "      <th>0</th>\n",
       "      <td>How to Train Your Dragon</td>\n",
       "      <td>How to Train Your Dragon</td>\n",
       "      <td>7.7</td>\n",
       "      <td>30</td>\n",
       "      <td>Mar 26, 2010</td>\n",
       "      <td>How to Train Your Dragon</td>\n",
       "      <td>165000000</td>\n",
       "      <td>217581232</td>\n",
       "      <td>494870992</td>\n",
       "    </tr>\n",
       "    <tr>\n",
       "      <th>1</th>\n",
       "      <td>Iron Man 2</td>\n",
       "      <td>Iron Man 2</td>\n",
       "      <td>6.8</td>\n",
       "      <td>15</td>\n",
       "      <td>May 7, 2010</td>\n",
       "      <td>Iron Man 2</td>\n",
       "      <td>170000000</td>\n",
       "      <td>312433331</td>\n",
       "      <td>621156389</td>\n",
       "    </tr>\n",
       "    <tr>\n",
       "      <th>2</th>\n",
       "      <td>Toy Story</td>\n",
       "      <td>Toy Story</td>\n",
       "      <td>7.9</td>\n",
       "      <td>37</td>\n",
       "      <td>Nov 22, 1995</td>\n",
       "      <td>Toy Story</td>\n",
       "      <td>30000000</td>\n",
       "      <td>191796233</td>\n",
       "      <td>364545516</td>\n",
       "    </tr>\n",
       "    <tr>\n",
       "      <th>3</th>\n",
       "      <td>Toy Story</td>\n",
       "      <td>Toy Story</td>\n",
       "      <td>7.9</td>\n",
       "      <td>37</td>\n",
       "      <td>Nov 22, 1995</td>\n",
       "      <td>Toy Story</td>\n",
       "      <td>30000000</td>\n",
       "      <td>191796233</td>\n",
       "      <td>364545516</td>\n",
       "    </tr>\n",
       "    <tr>\n",
       "      <th>4</th>\n",
       "      <td>Inception</td>\n",
       "      <td>Inception</td>\n",
       "      <td>8.3</td>\n",
       "      <td>38</td>\n",
       "      <td>Jul 16, 2010</td>\n",
       "      <td>Inception</td>\n",
       "      <td>160000000</td>\n",
       "      <td>292576195</td>\n",
       "      <td>835524642</td>\n",
       "    </tr>\n",
       "  </tbody>\n",
       "</table>\n",
       "</div>"
      ],
      "text/plain": [
       "             original_title                     title  vote_average  id  \\\n",
       "0  How to Train Your Dragon  How to Train Your Dragon           7.7  30   \n",
       "1                Iron Man 2                Iron Man 2           6.8  15   \n",
       "2                 Toy Story                 Toy Story           7.9  37   \n",
       "3                 Toy Story                 Toy Story           7.9  37   \n",
       "4                 Inception                 Inception           8.3  38   \n",
       "\n",
       "   release_date                     movie  production_budget  domestic_gross  \\\n",
       "0  Mar 26, 2010  How to Train Your Dragon          165000000       217581232   \n",
       "1   May 7, 2010                Iron Man 2          170000000       312433331   \n",
       "2  Nov 22, 1995                 Toy Story           30000000       191796233   \n",
       "3  Nov 22, 1995                 Toy Story           30000000       191796233   \n",
       "4  Jul 16, 2010                 Inception          160000000       292576195   \n",
       "\n",
       "   worldwide_gross  \n",
       "0        494870992  \n",
       "1        621156389  \n",
       "2        364545516  \n",
       "3        364545516  \n",
       "4        835524642  "
      ]
     },
     "execution_count": 66,
     "metadata": {},
     "output_type": "execute_result"
    }
   ],
   "source": [
    "tmdb_tn_merge = pd.merge(tmdb_df, tn_df, how = 'inner', left_on ='original_title', right_on ='movie')\n",
    "\n",
    "tmdb_tn_merge.head()"
   ]
  },
  {
   "cell_type": "code",
   "execution_count": 67,
   "metadata": {},
   "outputs": [
    {
     "name": "stdout",
     "output_type": "stream",
     "text": [
      "<class 'pandas.core.frame.DataFrame'>\n",
      "Int64Index: 2316 entries, 0 to 2315\n",
      "Data columns (total 9 columns):\n",
      " #   Column             Non-Null Count  Dtype  \n",
      "---  ------             --------------  -----  \n",
      " 0   original_title     2316 non-null   object \n",
      " 1   title              2316 non-null   object \n",
      " 2   vote_average       2316 non-null   float64\n",
      " 3   id                 2316 non-null   int64  \n",
      " 4   release_date       2316 non-null   object \n",
      " 5   movie              2316 non-null   object \n",
      " 6   production_budget  2316 non-null   int64  \n",
      " 7   domestic_gross     2316 non-null   int64  \n",
      " 8   worldwide_gross    2316 non-null   int64  \n",
      "dtypes: float64(1), int64(4), object(4)\n",
      "memory usage: 180.9+ KB\n"
     ]
    }
   ],
   "source": [
    "tmdb_tn_merge.info()"
   ]
  },
  {
   "cell_type": "markdown",
   "metadata": {},
   "source": [
    "There are no NaN values in the data"
   ]
  },
  {
   "cell_type": "code",
   "execution_count": 68,
   "metadata": {},
   "outputs": [
    {
     "data": {
      "text/html": [
       "<div>\n",
       "<style scoped>\n",
       "    .dataframe tbody tr th:only-of-type {\n",
       "        vertical-align: middle;\n",
       "    }\n",
       "\n",
       "    .dataframe tbody tr th {\n",
       "        vertical-align: top;\n",
       "    }\n",
       "\n",
       "    .dataframe thead th {\n",
       "        text-align: right;\n",
       "    }\n",
       "</style>\n",
       "<table border=\"1\" class=\"dataframe\">\n",
       "  <thead>\n",
       "    <tr style=\"text-align: right;\">\n",
       "      <th></th>\n",
       "      <th>vote_average</th>\n",
       "      <th>id</th>\n",
       "      <th>production_budget</th>\n",
       "      <th>domestic_gross</th>\n",
       "      <th>worldwide_gross</th>\n",
       "    </tr>\n",
       "  </thead>\n",
       "  <tbody>\n",
       "    <tr>\n",
       "      <th>count</th>\n",
       "      <td>2316.000000</td>\n",
       "      <td>2316.000000</td>\n",
       "      <td>2.316000e+03</td>\n",
       "      <td>2.316000e+03</td>\n",
       "      <td>2.316000e+03</td>\n",
       "    </tr>\n",
       "    <tr>\n",
       "      <th>mean</th>\n",
       "      <td>6.206261</td>\n",
       "      <td>50.842832</td>\n",
       "      <td>3.790108e+07</td>\n",
       "      <td>4.953869e+07</td>\n",
       "      <td>1.201667e+08</td>\n",
       "    </tr>\n",
       "    <tr>\n",
       "      <th>std</th>\n",
       "      <td>1.178079</td>\n",
       "      <td>28.359866</td>\n",
       "      <td>5.150964e+07</td>\n",
       "      <td>8.261483e+07</td>\n",
       "      <td>2.218496e+08</td>\n",
       "    </tr>\n",
       "    <tr>\n",
       "      <th>min</th>\n",
       "      <td>0.000000</td>\n",
       "      <td>1.000000</td>\n",
       "      <td>9.000000e+03</td>\n",
       "      <td>0.000000e+00</td>\n",
       "      <td>0.000000e+00</td>\n",
       "    </tr>\n",
       "    <tr>\n",
       "      <th>25%</th>\n",
       "      <td>5.600000</td>\n",
       "      <td>27.000000</td>\n",
       "      <td>5.000000e+06</td>\n",
       "      <td>7.788272e+05</td>\n",
       "      <td>3.224914e+06</td>\n",
       "    </tr>\n",
       "    <tr>\n",
       "      <th>50%</th>\n",
       "      <td>6.300000</td>\n",
       "      <td>51.000000</td>\n",
       "      <td>1.900000e+07</td>\n",
       "      <td>2.015790e+07</td>\n",
       "      <td>3.722812e+07</td>\n",
       "    </tr>\n",
       "    <tr>\n",
       "      <th>75%</th>\n",
       "      <td>6.900000</td>\n",
       "      <td>75.000000</td>\n",
       "      <td>4.650000e+07</td>\n",
       "      <td>5.830223e+07</td>\n",
       "      <td>1.248731e+08</td>\n",
       "    </tr>\n",
       "    <tr>\n",
       "      <th>max</th>\n",
       "      <td>10.000000</td>\n",
       "      <td>100.000000</td>\n",
       "      <td>4.250000e+08</td>\n",
       "      <td>7.605076e+08</td>\n",
       "      <td>2.776345e+09</td>\n",
       "    </tr>\n",
       "  </tbody>\n",
       "</table>\n",
       "</div>"
      ],
      "text/plain": [
       "       vote_average           id  production_budget  domestic_gross  \\\n",
       "count   2316.000000  2316.000000       2.316000e+03    2.316000e+03   \n",
       "mean       6.206261    50.842832       3.790108e+07    4.953869e+07   \n",
       "std        1.178079    28.359866       5.150964e+07    8.261483e+07   \n",
       "min        0.000000     1.000000       9.000000e+03    0.000000e+00   \n",
       "25%        5.600000    27.000000       5.000000e+06    7.788272e+05   \n",
       "50%        6.300000    51.000000       1.900000e+07    2.015790e+07   \n",
       "75%        6.900000    75.000000       4.650000e+07    5.830223e+07   \n",
       "max       10.000000   100.000000       4.250000e+08    7.605076e+08   \n",
       "\n",
       "       worldwide_gross  \n",
       "count     2.316000e+03  \n",
       "mean      1.201667e+08  \n",
       "std       2.218496e+08  \n",
       "min       0.000000e+00  \n",
       "25%       3.224914e+06  \n",
       "50%       3.722812e+07  \n",
       "75%       1.248731e+08  \n",
       "max       2.776345e+09  "
      ]
     },
     "execution_count": 68,
     "metadata": {},
     "output_type": "execute_result"
    }
   ],
   "source": [
    "tmdb_tn_merge.describe()"
   ]
  },
  {
   "cell_type": "markdown",
   "metadata": {},
   "source": [
    "The vote average for this data is around 6.2 (similar to IMDb data) and the mean production budget is around 49 million dollars. "
   ]
  },
  {
   "cell_type": "code",
   "execution_count": 69,
   "metadata": {},
   "outputs": [
    {
     "name": "stdout",
     "output_type": "stream",
     "text": [
      "2316\n"
     ]
    }
   ],
   "source": [
    "print(len(tmdb_tn_merge)) # 2316"
   ]
  },
  {
   "cell_type": "code",
   "execution_count": 70,
   "metadata": {},
   "outputs": [
    {
     "data": {
      "image/png": "[encoded data removed]",
      "text/plain": [
       "<Figure size 1440x720 with 2 Axes>"
      ]
     },
     "metadata": {},
     "output_type": "display_data"
    }
   ],
   "source": [
    "histogram_subplots(tmdb_tn_merge['vote_average'], tmdb_tn_merge['production_budget'], 'Average Rating', \n",
    "                         'Production Budget', 'Number of Movies', 'Number of Movies', 'Distribution of Ratings', \n",
    "                         'Distribution of Production Budget', 5)"
   ]
  },
  {
   "cell_type": "markdown",
   "metadata": {},
   "source": [
    "This figure displays a histogram with the distribution of ratings and production budget for the movies found in the TMDB_tn combined dataframe.  The average ratings are close to normal.  The budget values have heavy skew with potentially significant outliers, as was the case in the previous data.  "
   ]
  },
  {
   "cell_type": "code",
   "execution_count": 71,
   "metadata": {},
   "outputs": [
    {
     "data": {
      "image/png": "[encoded data removed]",
      "text/plain": [
       "<Figure size 1440x720 with 2 Axes>"
      ]
     },
     "metadata": {},
     "output_type": "display_data"
    }
   ],
   "source": [
    "box_subplts(tmdb_tn_merge, 'vote_average', 'production_budget', 'Average Rating', 'Production Budget', \n",
    "                           'Distribution of TMDB Average Ratings', 'Distribution of TMDB Production Budgets' )"
   ]
  },
  {
   "cell_type": "markdown",
   "metadata": {},
   "source": [
    "Boxplots to better visualize the outliers in the distribution of this data. Wide spread noted.  "
   ]
  },
  {
   "cell_type": "code",
   "execution_count": 72,
   "metadata": {},
   "outputs": [
    {
     "data": {
      "text/plain": [
       "id                   0.003180\n",
       "production_budget    0.132294\n",
       "worldwide_gross      0.198874\n",
       "domestic_gross       0.212199\n",
       "vote_average         1.000000\n",
       "Name: vote_average, dtype: float64"
      ]
     },
     "execution_count": 72,
     "metadata": {},
     "output_type": "execute_result"
    }
   ],
   "source": [
    "tmdb_tn_merge.corr()['vote_average'].sort_values()"
   ]
  },
  {
   "cell_type": "markdown",
   "metadata": {},
   "source": [
    "Production budget is not strongly correlated with ratings in this data either. "
   ]
  },
  {
   "cell_type": "code",
   "execution_count": 73,
   "metadata": {},
   "outputs": [
    {
     "data": {
      "image/png": "[encoded data removed]",
      "text/plain": [
       "<Figure size 432x288 with 1 Axes>"
      ]
     },
     "metadata": {},
     "output_type": "display_data"
    }
   ],
   "source": [
    "simple_regression('production_budget', 'vote_average', tmdb_tn_merge, 'TMDB Average Rating v. Production Budget', \n",
    "                          'Average Rating', 'Production Budget')"
   ]
  },
  {
   "cell_type": "markdown",
   "metadata": {},
   "source": [
    "Simple linear regression shows that the relationship between production budget and ratings is not a strong one. "
   ]
  },
  {
   "cell_type": "markdown",
   "metadata": {},
   "source": [
    "To determine if removing extreme outliers from the distribution of the production budget information would impact the analysis, I used the same technique from the IMDB data and calculated z scores for the data and removed rows that contained data greater than 3 standard deviations from the mean.  "
   ]
  },
  {
   "cell_type": "code",
   "execution_count": 74,
   "metadata": {},
   "outputs": [
    {
     "name": "stdout",
     "output_type": "stream",
     "text": [
      "[2.46801108e+00 2.56510125e+00 1.53423453e-01 ... 1.92081582e-03\n",
      " 5.61202159e-01 5.02948058e-01]\n"
     ]
    }
   ],
   "source": [
    "z = np.abs(stats.zscore(tmdb_tn_merge['production_budget'])) # calculate z-scores for desired column\n",
    "print(z)"
   ]
  },
  {
   "cell_type": "code",
   "execution_count": 75,
   "metadata": {},
   "outputs": [
    {
     "name": "stdout",
     "output_type": "stream",
     "text": [
      "(array([   6,    7,   12,   14,   17,   38,   40,  310,  313,  323,  543,\n",
      "        567,  568,  632,  634,  639,  640,  643,  645,  648,  651,  880,\n",
      "        884,  888,  890,  943,  953,  956, 1114, 1172, 1174, 1200, 1203,\n",
      "       1461, 1463, 1464, 1478, 1752, 1759, 1770, 1771, 1815, 2006, 2007,\n",
      "       2009, 2011, 2017, 2040, 2182, 2183, 2190, 2201]),)\n",
      "52\n",
      "[6, 7, 12, 14, 17, 38, 40, 310, 313, 323, 543, 567, 568, 632, 634, 639, 640, 643, 645, 648, 651, 880, 884, 888, 890, 943, 953, 956, 1114, 1172, 1174, 1200, 1203, 1461, 1463, 1464, 1478, 1752, 1759, 1770, 1771, 1815, 2006, 2007, 2009, 2011, 2017, 2040, 2182, 2183, 2190, 2201]\n"
     ]
    }
   ],
   "source": [
    "outliers = np.where(z > 3) # create an array showing the rows where the z-score is greater than 3\n",
    "print(outliers) # an array inside a tuple where each array item indicates a row that has a z-score > 3\n",
    "print(len(outliers[0])) # 74 rows in the array\n",
    "\n",
    "outliers = outliers[0].tolist() # want the array in a list instead of having an array inside a tuple.\n",
    "print(outliers)"
   ]
  },
  {
   "cell_type": "markdown",
   "metadata": {},
   "source": [
    "There are 52 rows in the dataset that have a production budget that exceeds 3 standard deviations. This is a small amount of the total data, so I feel comfortable at least trying the analysis without those data."
   ]
  },
  {
   "cell_type": "code",
   "execution_count": 76,
   "metadata": {},
   "outputs": [
    {
     "data": {
      "text/html": [
       "<div>\n",
       "<style scoped>\n",
       "    .dataframe tbody tr th:only-of-type {\n",
       "        vertical-align: middle;\n",
       "    }\n",
       "\n",
       "    .dataframe tbody tr th {\n",
       "        vertical-align: top;\n",
       "    }\n",
       "\n",
       "    .dataframe thead th {\n",
       "        text-align: right;\n",
       "    }\n",
       "</style>\n",
       "<table border=\"1\" class=\"dataframe\">\n",
       "  <thead>\n",
       "    <tr style=\"text-align: right;\">\n",
       "      <th></th>\n",
       "      <th>original_title</th>\n",
       "      <th>title</th>\n",
       "      <th>vote_average</th>\n",
       "      <th>id</th>\n",
       "      <th>release_date</th>\n",
       "      <th>movie</th>\n",
       "      <th>production_budget</th>\n",
       "      <th>domestic_gross</th>\n",
       "      <th>worldwide_gross</th>\n",
       "    </tr>\n",
       "  </thead>\n",
       "  <tbody>\n",
       "    <tr>\n",
       "      <th>0</th>\n",
       "      <td>How to Train Your Dragon</td>\n",
       "      <td>How to Train Your Dragon</td>\n",
       "      <td>7.7</td>\n",
       "      <td>30</td>\n",
       "      <td>Mar 26, 2010</td>\n",
       "      <td>How to Train Your Dragon</td>\n",
       "      <td>165000000</td>\n",
       "      <td>217581232</td>\n",
       "      <td>494870992</td>\n",
       "    </tr>\n",
       "    <tr>\n",
       "      <th>1</th>\n",
       "      <td>Iron Man 2</td>\n",
       "      <td>Iron Man 2</td>\n",
       "      <td>6.8</td>\n",
       "      <td>15</td>\n",
       "      <td>May 7, 2010</td>\n",
       "      <td>Iron Man 2</td>\n",
       "      <td>170000000</td>\n",
       "      <td>312433331</td>\n",
       "      <td>621156389</td>\n",
       "    </tr>\n",
       "    <tr>\n",
       "      <th>2</th>\n",
       "      <td>Toy Story</td>\n",
       "      <td>Toy Story</td>\n",
       "      <td>7.9</td>\n",
       "      <td>37</td>\n",
       "      <td>Nov 22, 1995</td>\n",
       "      <td>Toy Story</td>\n",
       "      <td>30000000</td>\n",
       "      <td>191796233</td>\n",
       "      <td>364545516</td>\n",
       "    </tr>\n",
       "    <tr>\n",
       "      <th>3</th>\n",
       "      <td>Toy Story</td>\n",
       "      <td>Toy Story</td>\n",
       "      <td>7.9</td>\n",
       "      <td>37</td>\n",
       "      <td>Nov 22, 1995</td>\n",
       "      <td>Toy Story</td>\n",
       "      <td>30000000</td>\n",
       "      <td>191796233</td>\n",
       "      <td>364545516</td>\n",
       "    </tr>\n",
       "    <tr>\n",
       "      <th>4</th>\n",
       "      <td>Inception</td>\n",
       "      <td>Inception</td>\n",
       "      <td>8.3</td>\n",
       "      <td>38</td>\n",
       "      <td>Jul 16, 2010</td>\n",
       "      <td>Inception</td>\n",
       "      <td>160000000</td>\n",
       "      <td>292576195</td>\n",
       "      <td>835524642</td>\n",
       "    </tr>\n",
       "  </tbody>\n",
       "</table>\n",
       "</div>"
      ],
      "text/plain": [
       "             original_title                     title  vote_average  id  \\\n",
       "0  How to Train Your Dragon  How to Train Your Dragon           7.7  30   \n",
       "1                Iron Man 2                Iron Man 2           6.8  15   \n",
       "2                 Toy Story                 Toy Story           7.9  37   \n",
       "3                 Toy Story                 Toy Story           7.9  37   \n",
       "4                 Inception                 Inception           8.3  38   \n",
       "\n",
       "   release_date                     movie  production_budget  domestic_gross  \\\n",
       "0  Mar 26, 2010  How to Train Your Dragon          165000000       217581232   \n",
       "1   May 7, 2010                Iron Man 2          170000000       312433331   \n",
       "2  Nov 22, 1995                 Toy Story           30000000       191796233   \n",
       "3  Nov 22, 1995                 Toy Story           30000000       191796233   \n",
       "4  Jul 16, 2010                 Inception          160000000       292576195   \n",
       "\n",
       "   worldwide_gross  \n",
       "0        494870992  \n",
       "1        621156389  \n",
       "2        364545516  \n",
       "3        364545516  \n",
       "4        835524642  "
      ]
     },
     "execution_count": 76,
     "metadata": {},
     "output_type": "execute_result"
    }
   ],
   "source": [
    "tmdb_tn_trimmed = tmdb_tn_merge.drop(outliers)\n",
    "\n",
    "tmdb_tn_trimmed.head()"
   ]
  },
  {
   "cell_type": "code",
   "execution_count": 77,
   "metadata": {},
   "outputs": [
    {
     "data": {
      "image/png": "[encoded data removed]",
      "text/plain": [
       "<Figure size 1440x720 with 2 Axes>"
      ]
     },
     "metadata": {},
     "output_type": "display_data"
    }
   ],
   "source": [
    "box_subplts(tmdb_tn_trimmed, 'vote_average', 'production_budget', 'Average Rating', 'Production Budget', \n",
    "                           'Distribution of TMDB Average Ratings', 'Distribution of TMDB Production Budgets' )"
   ]
  },
  {
   "cell_type": "markdown",
   "metadata": {},
   "source": [
    "There are less extreme values in the Production Budget data distribution now; however, it still has a large spread.  "
   ]
  },
  {
   "cell_type": "code",
   "execution_count": 78,
   "metadata": {},
   "outputs": [
    {
     "data": {
      "text/plain": [
       "id                   0.011274\n",
       "production_budget    0.126556\n",
       "worldwide_gross      0.199245\n",
       "domestic_gross       0.210579\n",
       "vote_average         1.000000\n",
       "Name: vote_average, dtype: float64"
      ]
     },
     "execution_count": 78,
     "metadata": {},
     "output_type": "execute_result"
    }
   ],
   "source": [
    "tmdb_tn_trimmed.corr()['vote_average'].sort_values()"
   ]
  },
  {
   "cell_type": "markdown",
   "metadata": {},
   "source": [
    "The correlation between ratings and production budget is slightly weaker with the extreme values trimmed."
   ]
  },
  {
   "cell_type": "markdown",
   "metadata": {},
   "source": [
    "Simple regression plotting shows the relationship between ratings and production budget is very weak."
   ]
  },
  {
   "cell_type": "code",
   "execution_count": 79,
   "metadata": {},
   "outputs": [
    {
     "data": {
      "image/png": "[encoded data removed]",
      "text/plain": [
       "<Figure size 432x288 with 1 Axes>"
      ]
     },
     "metadata": {},
     "output_type": "display_data"
    }
   ],
   "source": [
    "simple_regression('production_budget', 'vote_average', tmdb_tn_trimmed, 'TMDB Average Rating v. Production Budget', \n",
    "                          'Average Rating', 'Production Budget')"
   ]
  },
  {
   "cell_type": "markdown",
   "metadata": {},
   "source": [
    "## This section of code addresses the second part of Question 1:  \n",
    "\n",
    "Do ratings have a relationship to the domestic gross income of a movie?\n"
   ]
  },
  {
   "cell_type": "markdown",
   "metadata": {},
   "source": [
    "Dataframe created that combines imdb data with bom data for additional information on domestic gross revenue for movie titles. Some movie titles are listed in duplicate, but appears have different release years."
   ]
  },
  {
   "cell_type": "code",
   "execution_count": 80,
   "metadata": {},
   "outputs": [
    {
     "data": {
      "text/html": [
       "<div>\n",
       "<style scoped>\n",
       "    .dataframe tbody tr th:only-of-type {\n",
       "        vertical-align: middle;\n",
       "    }\n",
       "\n",
       "    .dataframe tbody tr th {\n",
       "        vertical-align: top;\n",
       "    }\n",
       "\n",
       "    .dataframe thead th {\n",
       "        text-align: right;\n",
       "    }\n",
       "</style>\n",
       "<table border=\"1\" class=\"dataframe\">\n",
       "  <thead>\n",
       "    <tr style=\"text-align: right;\">\n",
       "      <th></th>\n",
       "      <th>tconst</th>\n",
       "      <th>primary_title</th>\n",
       "      <th>original_title</th>\n",
       "      <th>start_year</th>\n",
       "      <th>averagerating</th>\n",
       "      <th>numvotes</th>\n",
       "      <th>domestic_gross</th>\n",
       "    </tr>\n",
       "  </thead>\n",
       "  <tbody>\n",
       "    <tr>\n",
       "      <th>0</th>\n",
       "      <td>tt0315642</td>\n",
       "      <td>Wazir</td>\n",
       "      <td>Wazir</td>\n",
       "      <td>2016</td>\n",
       "      <td>7.1</td>\n",
       "      <td>15378</td>\n",
       "      <td>1100000.0</td>\n",
       "    </tr>\n",
       "    <tr>\n",
       "      <th>1</th>\n",
       "      <td>tt0337692</td>\n",
       "      <td>On the Road</td>\n",
       "      <td>On the Road</td>\n",
       "      <td>2012</td>\n",
       "      <td>6.1</td>\n",
       "      <td>37886</td>\n",
       "      <td>744000.0</td>\n",
       "    </tr>\n",
       "    <tr>\n",
       "      <th>2</th>\n",
       "      <td>tt4339118</td>\n",
       "      <td>On the Road</td>\n",
       "      <td>On the Road</td>\n",
       "      <td>2014</td>\n",
       "      <td>6.0</td>\n",
       "      <td>6</td>\n",
       "      <td>744000.0</td>\n",
       "    </tr>\n",
       "    <tr>\n",
       "      <th>3</th>\n",
       "      <td>tt5647250</td>\n",
       "      <td>On the Road</td>\n",
       "      <td>On the Road</td>\n",
       "      <td>2016</td>\n",
       "      <td>5.7</td>\n",
       "      <td>127</td>\n",
       "      <td>744000.0</td>\n",
       "    </tr>\n",
       "    <tr>\n",
       "      <th>4</th>\n",
       "      <td>tt0359950</td>\n",
       "      <td>The Secret Life of Walter Mitty</td>\n",
       "      <td>The Secret Life of Walter Mitty</td>\n",
       "      <td>2013</td>\n",
       "      <td>7.3</td>\n",
       "      <td>275300</td>\n",
       "      <td>58200000.0</td>\n",
       "    </tr>\n",
       "  </tbody>\n",
       "</table>\n",
       "</div>"
      ],
      "text/plain": [
       "      tconst                    primary_title  \\\n",
       "0  tt0315642                            Wazir   \n",
       "1  tt0337692                      On the Road   \n",
       "2  tt4339118                      On the Road   \n",
       "3  tt5647250                      On the Road   \n",
       "4  tt0359950  The Secret Life of Walter Mitty   \n",
       "\n",
       "                    original_title  start_year  averagerating  numvotes  \\\n",
       "0                            Wazir        2016            7.1     15378   \n",
       "1                      On the Road        2012            6.1     37886   \n",
       "2                      On the Road        2014            6.0         6   \n",
       "3                      On the Road        2016            5.7       127   \n",
       "4  The Secret Life of Walter Mitty        2013            7.3    275300   \n",
       "\n",
       "   domestic_gross  \n",
       "0       1100000.0  \n",
       "1        744000.0  \n",
       "2        744000.0  \n",
       "3        744000.0  \n",
       "4      58200000.0  "
      ]
     },
     "execution_count": 80,
     "metadata": {},
     "output_type": "execute_result"
    }
   ],
   "source": [
    "imdb_bom_merge = pd.merge(imdb_data, bom_df, how = 'inner', left_on ='primary_title', right_on ='title')\n",
    "\n",
    "# Dropping some columns that won't pertain to this analysis for readability\n",
    "imdb_bom_merge.drop(['runtime_minutes', 'year', 'title', 'genres', 'studio', 'foreign_gross'], axis=1, inplace=True)\n",
    "\n",
    "imdb_bom_merge.head()"
   ]
  },
  {
   "cell_type": "code",
   "execution_count": 81,
   "metadata": {},
   "outputs": [
    {
     "name": "stdout",
     "output_type": "stream",
     "text": [
      "3027\n"
     ]
    }
   ],
   "source": [
    "print(len(imdb_bom_merge)) #3027"
   ]
  },
  {
   "cell_type": "markdown",
   "metadata": {},
   "source": [
    "This database merges both dataframes that contain revenue info for movies that are also listed on imdb.  Outer join used so that this will include all the movies for which revenue info is available whether that movie is listed in tn, bom, or in both.  "
   ]
  },
  {
   "cell_type": "code",
   "execution_count": 82,
   "metadata": {},
   "outputs": [
    {
     "data": {
      "text/html": [
       "<div>\n",
       "<style scoped>\n",
       "    .dataframe tbody tr th:only-of-type {\n",
       "        vertical-align: middle;\n",
       "    }\n",
       "\n",
       "    .dataframe tbody tr th {\n",
       "        vertical-align: top;\n",
       "    }\n",
       "\n",
       "    .dataframe thead th {\n",
       "        text-align: right;\n",
       "    }\n",
       "</style>\n",
       "<table border=\"1\" class=\"dataframe\">\n",
       "  <thead>\n",
       "    <tr style=\"text-align: right;\">\n",
       "      <th></th>\n",
       "      <th>tconst</th>\n",
       "      <th>primary_title</th>\n",
       "      <th>original_title</th>\n",
       "      <th>start_year</th>\n",
       "      <th>averagerating</th>\n",
       "      <th>numvotes</th>\n",
       "      <th>domestic_gross</th>\n",
       "    </tr>\n",
       "  </thead>\n",
       "  <tbody>\n",
       "    <tr>\n",
       "      <th>0</th>\n",
       "      <td>tt0249516</td>\n",
       "      <td>Foodfight!</td>\n",
       "      <td>Foodfight!</td>\n",
       "      <td>2012</td>\n",
       "      <td>1.9</td>\n",
       "      <td>8248</td>\n",
       "      <td>0.0</td>\n",
       "    </tr>\n",
       "    <tr>\n",
       "      <th>1</th>\n",
       "      <td>tt0326592</td>\n",
       "      <td>The Overnight</td>\n",
       "      <td>The Overnight</td>\n",
       "      <td>2010</td>\n",
       "      <td>7.5</td>\n",
       "      <td>24</td>\n",
       "      <td>1109808.0</td>\n",
       "    </tr>\n",
       "    <tr>\n",
       "      <th>2</th>\n",
       "      <td>tt3844362</td>\n",
       "      <td>The Overnight</td>\n",
       "      <td>The Overnight</td>\n",
       "      <td>2015</td>\n",
       "      <td>6.1</td>\n",
       "      <td>14828</td>\n",
       "      <td>1109808.0</td>\n",
       "    </tr>\n",
       "    <tr>\n",
       "      <th>3</th>\n",
       "      <td>tt0337692</td>\n",
       "      <td>On the Road</td>\n",
       "      <td>On the Road</td>\n",
       "      <td>2012</td>\n",
       "      <td>6.1</td>\n",
       "      <td>37886</td>\n",
       "      <td>720828.0</td>\n",
       "    </tr>\n",
       "    <tr>\n",
       "      <th>4</th>\n",
       "      <td>tt4339118</td>\n",
       "      <td>On the Road</td>\n",
       "      <td>On the Road</td>\n",
       "      <td>2014</td>\n",
       "      <td>6.0</td>\n",
       "      <td>6</td>\n",
       "      <td>720828.0</td>\n",
       "    </tr>\n",
       "  </tbody>\n",
       "</table>\n",
       "</div>"
      ],
      "text/plain": [
       "      tconst  primary_title original_title  start_year  averagerating  \\\n",
       "0  tt0249516     Foodfight!     Foodfight!        2012            1.9   \n",
       "1  tt0326592  The Overnight  The Overnight        2010            7.5   \n",
       "2  tt3844362  The Overnight  The Overnight        2015            6.1   \n",
       "3  tt0337692    On the Road    On the Road        2012            6.1   \n",
       "4  tt4339118    On the Road    On the Road        2014            6.0   \n",
       "\n",
       "   numvotes  domestic_gross  \n",
       "0      8248             0.0  \n",
       "1        24       1109808.0  \n",
       "2     14828       1109808.0  \n",
       "3     37886        720828.0  \n",
       "4         6        720828.0  "
      ]
     },
     "execution_count": 82,
     "metadata": {},
     "output_type": "execute_result"
    }
   ],
   "source": [
    "imdb_revenue_merge = pd.merge(imdb_tn_merge, imdb_bom_merge, how = 'outer', \n",
    "                              left_on = ['tconst', 'primary_title', 'domestic_gross', 'averagerating', \n",
    "                                         'original_title', 'numvotes', 'start_year'], \n",
    "                              right_on =['tconst', 'primary_title', 'domestic_gross', 'averagerating', \n",
    "                                         'original_title', 'numvotes', 'start_year'])\n",
    "\n",
    "imdb_revenue_merge.drop(['id', 'production_budget'], axis=1, inplace=True)\n",
    "\n",
    "imdb_revenue_merge.drop_duplicates(subset=None, keep='first', inplace=True)\n",
    "\n",
    "imdb_revenue_merge.head()"
   ]
  },
  {
   "cell_type": "code",
   "execution_count": 83,
   "metadata": {},
   "outputs": [
    {
     "name": "stdout",
     "output_type": "stream",
     "text": [
      "5902\n"
     ]
    }
   ],
   "source": [
    "print(len(imdb_revenue_merge)) # 5902"
   ]
  },
  {
   "cell_type": "code",
   "execution_count": 84,
   "metadata": {},
   "outputs": [
    {
     "name": "stdout",
     "output_type": "stream",
     "text": [
      "domestic_gross \n",
      " 22\n",
      "averagerating \n",
      " 0\n"
     ]
    }
   ],
   "source": [
    "# Look for NaN values in the columns of interest\n",
    "\n",
    "cols = ['domestic_gross', 'averagerating']\n",
    "\n",
    "for col in cols:\n",
    "    print(col, '\\n', imdb_revenue_merge[col].isna().sum())\n"
   ]
  },
  {
   "cell_type": "code",
   "execution_count": 85,
   "metadata": {},
   "outputs": [
    {
     "data": {
      "text/plain": [
       "0"
      ]
     },
     "execution_count": 85,
     "metadata": {},
     "output_type": "execute_result"
    }
   ],
   "source": [
    "imdb_revenue_merge.dropna(subset = ['domestic_gross'], axis = 0, inplace=True)\n",
    "\n",
    "imdb_revenue_merge['domestic_gross'].isna().sum()"
   ]
  },
  {
   "cell_type": "markdown",
   "metadata": {},
   "source": [
    "Dropping NaN values in the domestic_gross column.  It only affects 22 of the data points out of 5902.  "
   ]
  },
  {
   "cell_type": "code",
   "execution_count": 86,
   "metadata": {},
   "outputs": [
    {
     "name": "stdout",
     "output_type": "stream",
     "text": [
      "<class 'pandas.core.frame.DataFrame'>\n",
      "Int64Index: 5880 entries, 0 to 5901\n",
      "Data columns (total 7 columns):\n",
      " #   Column          Non-Null Count  Dtype  \n",
      "---  ------          --------------  -----  \n",
      " 0   tconst          5880 non-null   object \n",
      " 1   primary_title   5880 non-null   object \n",
      " 2   original_title  5880 non-null   object \n",
      " 3   start_year      5880 non-null   int64  \n",
      " 4   averagerating   5880 non-null   float64\n",
      " 5   numvotes        5880 non-null   int64  \n",
      " 6   domestic_gross  5880 non-null   float64\n",
      "dtypes: float64(2), int64(2), object(3)\n",
      "memory usage: 367.5+ KB\n"
     ]
    }
   ],
   "source": [
    "imdb_revenue_merge.info()"
   ]
  },
  {
   "cell_type": "code",
   "execution_count": 87,
   "metadata": {},
   "outputs": [
    {
     "data": {
      "text/html": [
       "<div>\n",
       "<style scoped>\n",
       "    .dataframe tbody tr th:only-of-type {\n",
       "        vertical-align: middle;\n",
       "    }\n",
       "\n",
       "    .dataframe tbody tr th {\n",
       "        vertical-align: top;\n",
       "    }\n",
       "\n",
       "    .dataframe thead th {\n",
       "        text-align: right;\n",
       "    }\n",
       "</style>\n",
       "<table border=\"1\" class=\"dataframe\">\n",
       "  <thead>\n",
       "    <tr style=\"text-align: right;\">\n",
       "      <th></th>\n",
       "      <th>start_year</th>\n",
       "      <th>averagerating</th>\n",
       "      <th>numvotes</th>\n",
       "      <th>domestic_gross</th>\n",
       "    </tr>\n",
       "  </thead>\n",
       "  <tbody>\n",
       "    <tr>\n",
       "      <th>count</th>\n",
       "      <td>5880.000000</td>\n",
       "      <td>5880.000000</td>\n",
       "      <td>5.880000e+03</td>\n",
       "      <td>5.880000e+03</td>\n",
       "    </tr>\n",
       "    <tr>\n",
       "      <th>mean</th>\n",
       "      <td>2013.853741</td>\n",
       "      <td>6.356973</td>\n",
       "      <td>6.413217e+04</td>\n",
       "      <td>3.669776e+07</td>\n",
       "    </tr>\n",
       "    <tr>\n",
       "      <th>std</th>\n",
       "      <td>2.507353</td>\n",
       "      <td>1.104473</td>\n",
       "      <td>1.300792e+05</td>\n",
       "      <td>7.090728e+07</td>\n",
       "    </tr>\n",
       "    <tr>\n",
       "      <th>min</th>\n",
       "      <td>2010.000000</td>\n",
       "      <td>1.600000</td>\n",
       "      <td>5.000000e+00</td>\n",
       "      <td>0.000000e+00</td>\n",
       "    </tr>\n",
       "    <tr>\n",
       "      <th>25%</th>\n",
       "      <td>2012.000000</td>\n",
       "      <td>5.800000</td>\n",
       "      <td>6.517500e+02</td>\n",
       "      <td>1.817500e+05</td>\n",
       "    </tr>\n",
       "    <tr>\n",
       "      <th>50%</th>\n",
       "      <td>2014.000000</td>\n",
       "      <td>6.500000</td>\n",
       "      <td>1.108900e+04</td>\n",
       "      <td>6.798848e+06</td>\n",
       "    </tr>\n",
       "    <tr>\n",
       "      <th>75%</th>\n",
       "      <td>2016.000000</td>\n",
       "      <td>7.100000</td>\n",
       "      <td>6.998600e+04</td>\n",
       "      <td>4.278445e+07</td>\n",
       "    </tr>\n",
       "    <tr>\n",
       "      <th>max</th>\n",
       "      <td>2019.000000</td>\n",
       "      <td>9.300000</td>\n",
       "      <td>1.841066e+06</td>\n",
       "      <td>7.605076e+08</td>\n",
       "    </tr>\n",
       "  </tbody>\n",
       "</table>\n",
       "</div>"
      ],
      "text/plain": [
       "        start_year  averagerating      numvotes  domestic_gross\n",
       "count  5880.000000    5880.000000  5.880000e+03    5.880000e+03\n",
       "mean   2013.853741       6.356973  6.413217e+04    3.669776e+07\n",
       "std       2.507353       1.104473  1.300792e+05    7.090728e+07\n",
       "min    2010.000000       1.600000  5.000000e+00    0.000000e+00\n",
       "25%    2012.000000       5.800000  6.517500e+02    1.817500e+05\n",
       "50%    2014.000000       6.500000  1.108900e+04    6.798848e+06\n",
       "75%    2016.000000       7.100000  6.998600e+04    4.278445e+07\n",
       "max    2019.000000       9.300000  1.841066e+06    7.605076e+08"
      ]
     },
     "execution_count": 87,
     "metadata": {},
     "output_type": "execute_result"
    }
   ],
   "source": [
    "imdb_revenue_merge.describe()"
   ]
  },
  {
   "cell_type": "markdown",
   "metadata": {},
   "source": [
    "The mean average rating for this combination data is around 6.4.  The mean domestic gross figure for this data is 37 millsion dollars."
   ]
  },
  {
   "cell_type": "code",
   "execution_count": 88,
   "metadata": {},
   "outputs": [
    {
     "data": {
      "image/png": "[encoded data removed]",
      "text/plain": [
       "<Figure size 1440x720 with 2 Axes>"
      ]
     },
     "metadata": {},
     "output_type": "display_data"
    }
   ],
   "source": [
    "histogram_subplots(imdb_revenue_merge['averagerating'], imdb_revenue_merge['domestic_gross'], 'Average Rating', \n",
    "                         'Domestic Gross', 'Number of Movies', 'Number of Movies', 'Distribution of Ratings', \n",
    "                         'Distribution of Domestic Gross', 5, 10)"
   ]
  },
  {
   "cell_type": "markdown",
   "metadata": {},
   "source": [
    "Thi distribution of ratings is approximately normal, but the distribution of the domestic gross figures is right skewed."
   ]
  },
  {
   "cell_type": "code",
   "execution_count": 89,
   "metadata": {},
   "outputs": [
    {
     "data": {
      "image/png": "[encoded data removed]",
      "text/plain": [
       "<Figure size 1440x720 with 2 Axes>"
      ]
     },
     "metadata": {},
     "output_type": "display_data"
    }
   ],
   "source": [
    "box_subplts(imdb_revenue_merge, 'averagerating', 'domestic_gross', 'Average Rating', 'Domestic Gross', \n",
    "                           'Distribution of IMDB Average Ratings', 'Distribution of IMDB Domestic Gross' )"
   ]
  },
  {
   "cell_type": "markdown",
   "metadata": {},
   "source": [
    "The boxplot helps visualize the spread of the data better.  It is clear that the spread is wide and contains potential extreme outliers."
   ]
  },
  {
   "cell_type": "code",
   "execution_count": 90,
   "metadata": {},
   "outputs": [
    {
     "data": {
      "text/plain": [
       "start_year        0.024169\n",
       "domestic_gross    0.141853\n",
       "numvotes          0.293551\n",
       "averagerating     1.000000\n",
       "Name: averagerating, dtype: float64"
      ]
     },
     "execution_count": 90,
     "metadata": {},
     "output_type": "execute_result"
    }
   ],
   "source": [
    "imdb_revenue_merge.corr()['averagerating'].sort_values()"
   ]
  },
  {
   "cell_type": "markdown",
   "metadata": {},
   "source": [
    "The correlation between ratings and the domestic gross of a movie is not a strong one."
   ]
  },
  {
   "cell_type": "code",
   "execution_count": 91,
   "metadata": {},
   "outputs": [
    {
     "data": {
      "image/png": "[encoded data removed]",
      "text/plain": [
       "<Figure size 432x288 with 1 Axes>"
      ]
     },
     "metadata": {},
     "output_type": "display_data"
    }
   ],
   "source": [
    "simple_regression('averagerating', 'domestic_gross', imdb_revenue_merge, 'IMDB Domestic Gross v. Average Rating', \n",
    "                          'Domestic Gross', 'Average Rating')"
   ]
  },
  {
   "cell_type": "code",
   "execution_count": 92,
   "metadata": {},
   "outputs": [],
   "source": [
    "z = np.abs(stats.zscore(imdb_revenue_merge['domestic_gross'])) # calculate z-scores for desired column"
   ]
  },
  {
   "cell_type": "code",
   "execution_count": 98,
   "metadata": {},
   "outputs": [
    {
     "name": "stdout",
     "output_type": "stream",
     "text": [
      "245\n"
     ]
    }
   ],
   "source": [
    "outliers = np.where(z > 2) # create an array showing the rows where the z-score is greater than 2\n",
    "print(len(outliers[0])) # 134 rows in the array\n",
    "\n",
    "outliers = outliers[0].tolist() # want the array in a list instead of having an array inside a tuple.\n"
   ]
  },
  {
   "cell_type": "code",
   "execution_count": 99,
   "metadata": {},
   "outputs": [
    {
     "data": {
      "text/html": [
       "<div>\n",
       "<style scoped>\n",
       "    .dataframe tbody tr th:only-of-type {\n",
       "        vertical-align: middle;\n",
       "    }\n",
       "\n",
       "    .dataframe tbody tr th {\n",
       "        vertical-align: top;\n",
       "    }\n",
       "\n",
       "    .dataframe thead th {\n",
       "        text-align: right;\n",
       "    }\n",
       "</style>\n",
       "<table border=\"1\" class=\"dataframe\">\n",
       "  <thead>\n",
       "    <tr style=\"text-align: right;\">\n",
       "      <th></th>\n",
       "      <th>tconst</th>\n",
       "      <th>primary_title</th>\n",
       "      <th>original_title</th>\n",
       "      <th>start_year</th>\n",
       "      <th>averagerating</th>\n",
       "      <th>numvotes</th>\n",
       "      <th>domestic_gross</th>\n",
       "    </tr>\n",
       "  </thead>\n",
       "  <tbody>\n",
       "    <tr>\n",
       "      <th>0</th>\n",
       "      <td>tt0249516</td>\n",
       "      <td>Foodfight!</td>\n",
       "      <td>Foodfight!</td>\n",
       "      <td>2012</td>\n",
       "      <td>1.9</td>\n",
       "      <td>8248</td>\n",
       "      <td>0.0</td>\n",
       "    </tr>\n",
       "    <tr>\n",
       "      <th>1</th>\n",
       "      <td>tt0326592</td>\n",
       "      <td>The Overnight</td>\n",
       "      <td>The Overnight</td>\n",
       "      <td>2010</td>\n",
       "      <td>7.5</td>\n",
       "      <td>24</td>\n",
       "      <td>1109808.0</td>\n",
       "    </tr>\n",
       "    <tr>\n",
       "      <th>2</th>\n",
       "      <td>tt3844362</td>\n",
       "      <td>The Overnight</td>\n",
       "      <td>The Overnight</td>\n",
       "      <td>2015</td>\n",
       "      <td>6.1</td>\n",
       "      <td>14828</td>\n",
       "      <td>1109808.0</td>\n",
       "    </tr>\n",
       "    <tr>\n",
       "      <th>3</th>\n",
       "      <td>tt0337692</td>\n",
       "      <td>On the Road</td>\n",
       "      <td>On the Road</td>\n",
       "      <td>2012</td>\n",
       "      <td>6.1</td>\n",
       "      <td>37886</td>\n",
       "      <td>720828.0</td>\n",
       "    </tr>\n",
       "    <tr>\n",
       "      <th>4</th>\n",
       "      <td>tt4339118</td>\n",
       "      <td>On the Road</td>\n",
       "      <td>On the Road</td>\n",
       "      <td>2014</td>\n",
       "      <td>6.0</td>\n",
       "      <td>6</td>\n",
       "      <td>720828.0</td>\n",
       "    </tr>\n",
       "  </tbody>\n",
       "</table>\n",
       "</div>"
      ],
      "text/plain": [
       "      tconst  primary_title original_title  start_year  averagerating  \\\n",
       "0  tt0249516     Foodfight!     Foodfight!        2012            1.9   \n",
       "1  tt0326592  The Overnight  The Overnight        2010            7.5   \n",
       "2  tt3844362  The Overnight  The Overnight        2015            6.1   \n",
       "3  tt0337692    On the Road    On the Road        2012            6.1   \n",
       "4  tt4339118    On the Road    On the Road        2014            6.0   \n",
       "\n",
       "   numvotes  domestic_gross  \n",
       "0      8248             0.0  \n",
       "1        24       1109808.0  \n",
       "2     14828       1109808.0  \n",
       "3     37886        720828.0  \n",
       "4         6        720828.0  "
      ]
     },
     "execution_count": 99,
     "metadata": {},
     "output_type": "execute_result"
    }
   ],
   "source": [
    "imdb_revenue_trimmed = imdb_revenue_merge.drop(imdb_revenue_merge.index[outliers])\n",
    "\n",
    "imdb_revenue_trimmed.head()"
   ]
  },
  {
   "cell_type": "code",
   "execution_count": 100,
   "metadata": {},
   "outputs": [
    {
     "data": {
      "text/plain": [
       "start_year        0.027105\n",
       "averagerating     0.063675\n",
       "numvotes          0.514450\n",
       "domestic_gross    1.000000\n",
       "Name: domestic_gross, dtype: float64"
      ]
     },
     "execution_count": 100,
     "metadata": {},
     "output_type": "execute_result"
    }
   ],
   "source": [
    "imdb_revenue_trimmed.corr()['domestic_gross'].sort_values()"
   ]
  },
  {
   "cell_type": "code",
   "execution_count": null,
   "metadata": {},
   "outputs": [],
   "source": [
    "tmdb_bom_merge = pd.merge(tmdb_df, bom_df, how = 'inner', left_on ='original_title', right_on ='title')\n",
    "\n",
    "# Dropping some columns that won't pertain to this analysis for readability\n",
    "tmdb_bom_merge.drop(['year', 'title_x', 'title_y', 'studio', 'foreign_gross'], axis=1, inplace=True)\n",
    "\n",
    "tmdb_bom_merge.head()"
   ]
  },
  {
   "cell_type": "code",
   "execution_count": null,
   "metadata": {},
   "outputs": [],
   "source": [
    "print(len(tmdb_bom_merge)) # 2280"
   ]
  },
  {
   "cell_type": "code",
   "execution_count": null,
   "metadata": {},
   "outputs": [],
   "source": [
    "tmdb_revenue_merge = pd.merge(tmdb_tn_merge, tmdb_bom_merge, how = 'outer', \n",
    "                              left_on = ['original_title', 'domestic_gross', 'vote_average'], \n",
    "                              right_on =['original_title', 'domestic_gross', 'vote_average'])\n",
    "\n",
    "tmdb_revenue_merge.drop(['title', 'id', 'release_date', 'movie', 'production_budget', \n",
    "                        'worldwide_gross'], axis=1, inplace=True)\n",
    "\n",
    "tmdb_revenue_merge.drop_duplicates(subset=None, keep='first', inplace=True)\n",
    "\n",
    "tmdb_revenue_merge.head()"
   ]
  },
  {
   "cell_type": "code",
   "execution_count": null,
   "metadata": {},
   "outputs": [],
   "source": [
    "print(len(tmdb_revenue_merge)) # 4194"
   ]
  },
  {
   "cell_type": "code",
   "execution_count": null,
   "metadata": {},
   "outputs": [],
   "source": [
    "cols = ['domestic_gross', 'vote_average']\n",
    "\n",
    "for col in cols:\n",
    "    print(col, '\\n', tmdb_revenue_merge[col].isna().sum())"
   ]
  },
  {
   "cell_type": "code",
   "execution_count": null,
   "metadata": {},
   "outputs": [],
   "source": [
    "tmdb_revenue_merge.dropna(subset = ['domestic_gross'], axis = 0, inplace=True)\n",
    "\n",
    "tmdb_revenue_merge['domestic_gross'].isna().sum()"
   ]
  },
  {
   "cell_type": "code",
   "execution_count": null,
   "metadata": {},
   "outputs": [],
   "source": [
    "tmdb_revenue_merge.info()"
   ]
  },
  {
   "cell_type": "code",
   "execution_count": null,
   "metadata": {},
   "outputs": [],
   "source": [
    "tmdb_revenue_merge.describe()"
   ]
  },
  {
   "cell_type": "code",
   "execution_count": null,
   "metadata": {},
   "outputs": [],
   "source": [
    "histogram_subplots(tmdb_revenue_merge['vote_average'], tmdb_revenue_merge['domestic_gross'], 'Average Rating', \n",
    "                         'Domestic Gross', 'Number of Movies', 'Number of Movies', 'Distribution of Ratings', \n",
    "                         'Distribution of Domestic Gross', 5, 10)"
   ]
  },
  {
   "cell_type": "code",
   "execution_count": null,
   "metadata": {},
   "outputs": [],
   "source": [
    "box_subplts(tmdb_revenue_merge, 'vote_average', 'domestic_gross', 'Average Rating', 'Domestic Gross', \n",
    "                           'Distribution of TMDB Average Ratings', 'Distribution of TMDB Domestic Gross' )"
   ]
  },
  {
   "cell_type": "code",
   "execution_count": null,
   "metadata": {},
   "outputs": [],
   "source": [
    "tmdb_revenue_merge.corr()['vote_average'].sort_values()"
   ]
  },
  {
   "cell_type": "code",
   "execution_count": null,
   "metadata": {},
   "outputs": [],
   "source": [
    "simple_regression('domestic_gross', 'vote_average', tmdb_revenue_merge, 'IMDB Average Rating v. Domestic Gross', \n",
    "                          'Average Rating', 'Domestic Gross')"
   ]
  },
  {
   "cell_type": "markdown",
   "metadata": {},
   "source": [
    "## Discussion Concerning Question 1:\n",
    "\n"
   ]
  },
  {
   "cell_type": "markdown",
   "metadata": {},
   "source": [
    "## Code and Visualizations pertinent to answering Question 2\n",
    "\n",
    "Does the size of the movie budget impact the money made by the movie? "
   ]
  },
  {
   "cell_type": "code",
   "execution_count": null,
   "metadata": {},
   "outputs": [],
   "source": []
  },
  {
   "cell_type": "markdown",
   "metadata": {},
   "source": [
    "## Discussion Concerning Question 2: \n"
   ]
  },
  {
   "cell_type": "markdown",
   "metadata": {},
   "source": [
    "## Code and Visualizations pertinent to answering Question 3\n",
    "\n",
    "Does choice of director for the movie appear to impact the gross income of a movie? "
   ]
  },
  {
   "cell_type": "code",
   "execution_count": null,
   "metadata": {},
   "outputs": [],
   "source": [
    "imdb_directors = pd.merge(imdb_df1, imdb_df4, how='inner', left_on = 'nconst', right_on = 'directors')\n",
    "\n",
    "# dropping unnecessary columns.  \n",
    "imdb_directors.drop(['writers', 'known_for_titles', 'primary_profession'], axis=1, inplace=True)\n",
    "\n",
    "imdb_directors.head()\n"
   ]
  },
  {
   "cell_type": "markdown",
   "metadata": {},
   "source": [
    "This dataframe will connect the name of the director to the movie ID.  "
   ]
  },
  {
   "cell_type": "code",
   "execution_count": null,
   "metadata": {},
   "outputs": [],
   "source": [
    "print(len(imdb_directors)) #124689"
   ]
  },
  {
   "cell_type": "code",
   "execution_count": null,
   "metadata": {},
   "outputs": [],
   "source": [
    "director_movie_data = pd.merge(imdb_df3, imdb_directors, how = 'inner', left_on = 'tconst', right_on = 'tconst')\n",
    "\n",
    "# Rename this column to better indicate what the column refers to in this combined dataframe.\n",
    "director_movie_data = director_movie_data.rename(columns={'primary_name': 'director_name'})\n",
    "\n",
    "director_movie_data.head()\n"
   ]
  },
  {
   "cell_type": "markdown",
   "metadata": {},
   "source": [
    "This dataframe combines the IMDb data for all the movie titles with their director.  This can later be combined with profit information to determine who the directors are for the movies with the most profit.  Use for Question 3 and use with question 4 (need also imdb_df6 for that question)."
   ]
  },
  {
   "cell_type": "code",
   "execution_count": null,
   "metadata": {},
   "outputs": [],
   "source": [
    "print(len(director_movie_data)) # 124689"
   ]
  },
  {
   "cell_type": "markdown",
   "metadata": {},
   "source": [
    "Length of this data reduces total movies by number of movies with available director data.  "
   ]
  },
  {
   "cell_type": "code",
   "execution_count": null,
   "metadata": {},
   "outputs": [],
   "source": [
    "profit_bom = pd.merge(director_data, bom_df, how='inner', left_on = 'primary_title', right_on = 'title')\n",
    "profit_bom.head()"
   ]
  },
  {
   "cell_type": "markdown",
   "metadata": {},
   "source": [
    "## Discussion Concerning Question 3:\n"
   ]
  },
  {
   "cell_type": "code",
   "execution_count": null,
   "metadata": {},
   "outputs": [],
   "source": []
  },
  {
   "cell_type": "code",
   "execution_count": null,
   "metadata": {},
   "outputs": [],
   "source": [
    "budget = pd.merge(profit_bom, tn_df, how='inner',left_on='primary_title',right_on='movie')\n",
    "budget.drop('domestic_gross_x', axis=1, inplace=True) # dropping the column with rounded domestic gross\n",
    "budget = budget.rename(columns={'domestic_gross_y': 'domestic_gross'}) # rename unrounded column after dropping duplicate\n",
    "budget.head()"
   ]
  },
  {
   "cell_type": "code",
   "execution_count": null,
   "metadata": {},
   "outputs": [],
   "source": [
    "rt_data = pd.merge(rt_df1, rt_df3, how='inner',left_on='id',right_on='id')\n",
    "\n",
    "# dropping these columns for readability and simplicity.  Won't use in analysis.\n",
    "rt_data.drop(['currency', 'synopsis'], axis=1, inplace=True) \n",
    "\n",
    "rt_data.head()"
   ]
  },
  {
   "cell_type": "markdown",
   "metadata": {},
   "source": [
    "## Code and Visualizations pertinent to answering Question 4\n",
    "\n",
    "Do ratings have a relationship with who directs the movie? "
   ]
  },
  {
   "cell_type": "code",
   "execution_count": null,
   "metadata": {},
   "outputs": [],
   "source": []
  },
  {
   "cell_type": "markdown",
   "metadata": {},
   "source": [
    "## Discussion Concerning Question 4:\n"
   ]
  },
  {
   "cell_type": "code",
   "execution_count": null,
   "metadata": {},
   "outputs": [],
   "source": []
  }
 ],
 "metadata": {
  "kernelspec": {
   "display_name": "Python [conda env:learn-env] *",
   "language": "python",
   "name": "conda-env-learn-env-py"
  },
  "language_info": {
   "codemirror_mode": {
    "name": "ipython",
    "version": 3
   },
   "file_extension": ".py",
   "mimetype": "text/x-python",
   "name": "python",
   "nbconvert_exporter": "python",
   "pygments_lexer": "ipython3",
   "version": "3.6.10"
  }
 },
 "nbformat": 4,
 "nbformat_minor": 2
}
